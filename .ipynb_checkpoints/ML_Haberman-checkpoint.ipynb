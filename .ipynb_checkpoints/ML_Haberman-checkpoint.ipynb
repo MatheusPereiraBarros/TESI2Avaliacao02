{
 "cells": [
  {
   "cell_type": "code",
   "execution_count": 36,
   "metadata": {},
   "outputs": [
    {
     "name": "stdout",
     "output_type": "stream",
     "text": [
      "[0.67307692 0.73076923 0.73076923 0.8        0.72       0.78      ]\n",
      "0.041320455142087244\n",
      "(Mean(statistic=0.7391025641025641, minmax=(0.6916006041721382, 0.7866045240329901)), Variance(statistic=0.0034147600262984888, minmax=(0.000798307304659788, 0.012324515096611845)), Std_dev(statistic=0.05383807513438867, minmax=(0.0282543324936157, 0.11101583263936654)))\n",
      "(Mean(statistic=0.5879487179487178, minmax=(0.3686330456604337, 0.807264390237002)), Variance(statistic=0.07279079552925706, minmax=(0.01701713248822116, 0.2627157549829819)), Std_dev(statistic=0.24856939924372778, minmax=(0.13044973165254564, 0.5125580503542813)))\n",
      "0.5879487179487178\n"
     ]
    }
   ],
   "source": [
    "import pandas as pd\n",
    "df = pd.read_csv('haberman_csv.csv')\n",
    "#print(df)\n",
    "df.head(3)\n",
    "x = df[['Age_of_patient_at_time_of_operation', 'Patients_year_of_operation', 'Number_of_positive_axillary_nodes_detected']]\n",
    "y = df['Survival_status']\n",
    "\n",
    "from sklearn.model_selection import train_test_split\n",
    "\n",
    "x_treino, x_teste, y_treino, y_teste = train_test_split(x, y, test_size=0.25, random_state=0)\n",
    "\n",
    "from sklearn.naive_bayes import MultinomialNB\n",
    "from sklearn.model_selection import cross_val_score\n",
    "\n",
    "modelo = MultinomialNB()\n",
    "\n",
    "#modelo.fit(x_treino, y_treino)\n",
    "\n",
    "#modelo.score(x_teste, y_teste)\n",
    "\n",
    "k = 6\n",
    "scores = cross_val_score(modelo, x, y, cv = k)\n",
    "\n",
    "print(scores)\n",
    "\n",
    "desvio = scores.std()\n",
    "\n",
    "print(desvio)\n",
    "\n",
    "from scipy.stats import bayes_mvs\n",
    "\n",
    "print(bayes_mvs(scores, 0.95))\n",
    "\n",
    "from sklearn.ensemble import AdaBoostClassifier\n",
    "modeloAdaBoost = AdaBoostClassifier()\n",
    "\n",
    "scores_ada = cross_val_score(modeloAdaBoost, x, y, cv = k) \n",
    "\n",
    "print(bayes_mvs(scores_ada, 0.95))\n",
    "\n",
    "from sklearn.multiclass import OneVsOneClassifier\n",
    "from sklearn.svm import LinearSVC\n",
    "\n",
    "modeloOneVsOne = OneVsOneClassifier(LinearSVC(random_state = 0))\n",
    "\n",
    "scoresOneVsOne = cross_val_score(modeloAdaBoost, x, y, cv = k)\n",
    "\n",
    "print(scoresOneVsOne.mean())"
   ]
  },
  {
   "cell_type": "code",
   "execution_count": null,
   "metadata": {},
   "outputs": [],
   "source": []
  },
  {
   "cell_type": "code",
   "execution_count": null,
   "metadata": {},
   "outputs": [],
   "source": []
  }
 ],
 "metadata": {
  "kernelspec": {
   "display_name": "Python 3",
   "language": "python",
   "name": "python3"
  },
  "language_info": {
   "codemirror_mode": {
    "name": "ipython",
    "version": 3
   },
   "file_extension": ".py",
   "mimetype": "text/x-python",
   "name": "python",
   "nbconvert_exporter": "python",
   "pygments_lexer": "ipython3",
   "version": "3.6.7"
  }
 },
 "nbformat": 4,
 "nbformat_minor": 2
}
