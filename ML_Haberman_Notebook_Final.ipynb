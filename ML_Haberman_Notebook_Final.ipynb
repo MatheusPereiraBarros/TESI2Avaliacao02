{
 "cells": [
  {
   "cell_type": "markdown",
   "metadata": {},
   "source": [
    "# Segunda avaliação de TESI\n",
    "João Carlos B. Santos  \n",
    "Matheus Barros\n",
    "\n",
    "# Informações sobre o dataset\n",
    "#### Título: [Haberman's Survival Data (Dados de Sobrevivência de Haberman)](https://archive.ics.uci.edu/ml/datasets/Haberman%27s+Survival)\n",
    "#### Fontes:\n",
    "(a) Doador: Tjen-Sien Lim (limt@stat.wisc.edu)  \n",
    "(b) Data: 4 de março de 1999\n",
    "\n",
    "#### Uso passado:\n",
    "1. Haberman, S. J. (1976). Residuais Generalizados para Modelos Log-Lineares, Anais da 9ª Conferência Internacional de Biometria, Boston, pp. 104-122.\n",
    "2. Landwehr, J. M., Pregibon, D., e Shoemaker, A. C. (1984), Modelos Gráficos para Avaliação de Modelos de Regressão Logística com discussão), Jornal da Associação Estatística Americana 79: 61-83.\n",
    "3. Lo, W.-D. (1993). Árvores de Regressão Logística, tese de doutorado, Departamento de Estatística, Universidade de Wisconsin, Madison, WI.\n",
    "\n",
    "#### Informação Relevante:\n",
    "O conjunto de dados contém casos de um estudo realizado entre **1958** e **1970**, no Hospital Billings, da Universidade de Chicago, sobre a sobrevida de pacientes submetidos à cirurgia para câncer de mama.\n",
    "\n",
    "#### Número de Instâncias: 306\n",
    "#### Número de Atributos: 4 (incluindo o atributo de classe)\n",
    "#### Informações sobre Atributos:\n",
    "1. Idade do paciente no momento da cirurgia;\n",
    "2. Ano da cirurgia do paciente (ano - 1900);\n",
    "3. Número de nódulos axilares positivos detectados;\n",
    "4. Status de Sobrevivência (atributo de classe);  \n",
    "    1 = o paciente sobreviveu 5 anos ou mais;  \n",
    "    2 = o paciente morreu dentro de 5 anos.\n",
    "\n",
    "#### Atributos ausentes: Nenhum"
   ]
  },
  {
   "cell_type": "markdown",
   "metadata": {},
   "source": [
    "## Todos os imports necessários"
   ]
  },
  {
   "cell_type": "code",
   "execution_count": 335,
   "metadata": {},
   "outputs": [],
   "source": [
    "import pandas as pd\n",
    "import matplotlib.pyplot as plt\n",
    "import numpy as np\n",
    "from sklearn.model_selection import train_test_split\n",
    "from sklearn.naive_bayes import MultinomialNB, GaussianNB\n",
    "from sklearn.model_selection import cross_val_score\n",
    "from scipy.stats import bayes_mvs, norm\n",
    "from sklearn.ensemble import AdaBoostClassifier, GradientBoostingClassifier\n",
    "from sklearn.multiclass import OneVsOneClassifier, OneVsRestClassifier\n",
    "from sklearn.svm import LinearSVC"
   ]
  },
  {
   "cell_type": "markdown",
   "metadata": {},
   "source": [
    "### Carregando o csv com os dados e exibindo as 5 primeiras linhas"
   ]
  },
  {
   "cell_type": "code",
   "execution_count": 295,
   "metadata": {},
   "outputs": [
    {
     "data": {
      "text/html": [
       "<div>\n",
       "<style scoped>\n",
       "    .dataframe tbody tr th:only-of-type {\n",
       "        vertical-align: middle;\n",
       "    }\n",
       "\n",
       "    .dataframe tbody tr th {\n",
       "        vertical-align: top;\n",
       "    }\n",
       "\n",
       "    .dataframe thead th {\n",
       "        text-align: right;\n",
       "    }\n",
       "</style>\n",
       "<table border=\"1\" class=\"dataframe\">\n",
       "  <thead>\n",
       "    <tr style=\"text-align: right;\">\n",
       "      <th></th>\n",
       "      <th>Age_of_patient_at_time_of_operation</th>\n",
       "      <th>Patients_year_of_operation</th>\n",
       "      <th>Number_of_positive_axillary_nodes_detected</th>\n",
       "      <th>Survival_status</th>\n",
       "    </tr>\n",
       "  </thead>\n",
       "  <tbody>\n",
       "    <tr>\n",
       "      <th>0</th>\n",
       "      <td>30</td>\n",
       "      <td>64</td>\n",
       "      <td>1</td>\n",
       "      <td>1</td>\n",
       "    </tr>\n",
       "    <tr>\n",
       "      <th>1</th>\n",
       "      <td>30</td>\n",
       "      <td>62</td>\n",
       "      <td>3</td>\n",
       "      <td>1</td>\n",
       "    </tr>\n",
       "    <tr>\n",
       "      <th>2</th>\n",
       "      <td>30</td>\n",
       "      <td>65</td>\n",
       "      <td>0</td>\n",
       "      <td>1</td>\n",
       "    </tr>\n",
       "    <tr>\n",
       "      <th>3</th>\n",
       "      <td>31</td>\n",
       "      <td>59</td>\n",
       "      <td>2</td>\n",
       "      <td>1</td>\n",
       "    </tr>\n",
       "    <tr>\n",
       "      <th>4</th>\n",
       "      <td>31</td>\n",
       "      <td>65</td>\n",
       "      <td>4</td>\n",
       "      <td>1</td>\n",
       "    </tr>\n",
       "  </tbody>\n",
       "</table>\n",
       "</div>"
      ],
      "text/plain": [
       "   Age_of_patient_at_time_of_operation  Patients_year_of_operation  \\\n",
       "0                                   30                          64   \n",
       "1                                   30                          62   \n",
       "2                                   30                          65   \n",
       "3                                   31                          59   \n",
       "4                                   31                          65   \n",
       "\n",
       "   Number_of_positive_axillary_nodes_detected  Survival_status  \n",
       "0                                           1                1  \n",
       "1                                           3                1  \n",
       "2                                           0                1  \n",
       "3                                           2                1  \n",
       "4                                           4                1  "
      ]
     },
     "execution_count": 295,
     "metadata": {},
     "output_type": "execute_result"
    }
   ],
   "source": [
    "# df = Data frame\n",
    "df = pd.read_csv('haberman_csv.csv')\n",
    "df.head(5)"
   ]
  },
  {
   "cell_type": "markdown",
   "metadata": {},
   "source": [
    "### Exibindo as 5 últimas linhas"
   ]
  },
  {
   "cell_type": "code",
   "execution_count": 296,
   "metadata": {
    "scrolled": true
   },
   "outputs": [
    {
     "data": {
      "text/html": [
       "<div>\n",
       "<style scoped>\n",
       "    .dataframe tbody tr th:only-of-type {\n",
       "        vertical-align: middle;\n",
       "    }\n",
       "\n",
       "    .dataframe tbody tr th {\n",
       "        vertical-align: top;\n",
       "    }\n",
       "\n",
       "    .dataframe thead th {\n",
       "        text-align: right;\n",
       "    }\n",
       "</style>\n",
       "<table border=\"1\" class=\"dataframe\">\n",
       "  <thead>\n",
       "    <tr style=\"text-align: right;\">\n",
       "      <th></th>\n",
       "      <th>Age_of_patient_at_time_of_operation</th>\n",
       "      <th>Patients_year_of_operation</th>\n",
       "      <th>Number_of_positive_axillary_nodes_detected</th>\n",
       "      <th>Survival_status</th>\n",
       "    </tr>\n",
       "  </thead>\n",
       "  <tbody>\n",
       "    <tr>\n",
       "      <th>301</th>\n",
       "      <td>75</td>\n",
       "      <td>62</td>\n",
       "      <td>1</td>\n",
       "      <td>1</td>\n",
       "    </tr>\n",
       "    <tr>\n",
       "      <th>302</th>\n",
       "      <td>76</td>\n",
       "      <td>67</td>\n",
       "      <td>0</td>\n",
       "      <td>1</td>\n",
       "    </tr>\n",
       "    <tr>\n",
       "      <th>303</th>\n",
       "      <td>77</td>\n",
       "      <td>65</td>\n",
       "      <td>3</td>\n",
       "      <td>1</td>\n",
       "    </tr>\n",
       "    <tr>\n",
       "      <th>304</th>\n",
       "      <td>78</td>\n",
       "      <td>65</td>\n",
       "      <td>1</td>\n",
       "      <td>2</td>\n",
       "    </tr>\n",
       "    <tr>\n",
       "      <th>305</th>\n",
       "      <td>83</td>\n",
       "      <td>58</td>\n",
       "      <td>2</td>\n",
       "      <td>2</td>\n",
       "    </tr>\n",
       "  </tbody>\n",
       "</table>\n",
       "</div>"
      ],
      "text/plain": [
       "     Age_of_patient_at_time_of_operation  Patients_year_of_operation  \\\n",
       "301                                   75                          62   \n",
       "302                                   76                          67   \n",
       "303                                   77                          65   \n",
       "304                                   78                          65   \n",
       "305                                   83                          58   \n",
       "\n",
       "     Number_of_positive_axillary_nodes_detected  Survival_status  \n",
       "301                                           1                1  \n",
       "302                                           0                1  \n",
       "303                                           3                1  \n",
       "304                                           1                2  \n",
       "305                                           2                2  "
      ]
     },
     "execution_count": 296,
     "metadata": {},
     "output_type": "execute_result"
    }
   ],
   "source": [
    "df.tail(5)"
   ]
  },
  {
   "cell_type": "markdown",
   "metadata": {},
   "source": [
    "### Exibindo as informações sobre o dataframe com info() e describe()"
   ]
  },
  {
   "cell_type": "code",
   "execution_count": 297,
   "metadata": {},
   "outputs": [
    {
     "name": "stdout",
     "output_type": "stream",
     "text": [
      "<class 'pandas.core.frame.DataFrame'>\n",
      "RangeIndex: 306 entries, 0 to 305\n",
      "Data columns (total 4 columns):\n",
      "Age_of_patient_at_time_of_operation           306 non-null int64\n",
      "Patients_year_of_operation                    306 non-null int64\n",
      "Number_of_positive_axillary_nodes_detected    306 non-null int64\n",
      "Survival_status                               306 non-null int64\n",
      "dtypes: int64(4)\n",
      "memory usage: 9.6 KB\n"
     ]
    }
   ],
   "source": [
    "df.info()"
   ]
  },
  {
   "cell_type": "code",
   "execution_count": 298,
   "metadata": {},
   "outputs": [
    {
     "data": {
      "text/html": [
       "<div>\n",
       "<style scoped>\n",
       "    .dataframe tbody tr th:only-of-type {\n",
       "        vertical-align: middle;\n",
       "    }\n",
       "\n",
       "    .dataframe tbody tr th {\n",
       "        vertical-align: top;\n",
       "    }\n",
       "\n",
       "    .dataframe thead th {\n",
       "        text-align: right;\n",
       "    }\n",
       "</style>\n",
       "<table border=\"1\" class=\"dataframe\">\n",
       "  <thead>\n",
       "    <tr style=\"text-align: right;\">\n",
       "      <th></th>\n",
       "      <th>Age_of_patient_at_time_of_operation</th>\n",
       "      <th>Patients_year_of_operation</th>\n",
       "      <th>Number_of_positive_axillary_nodes_detected</th>\n",
       "      <th>Survival_status</th>\n",
       "    </tr>\n",
       "  </thead>\n",
       "  <tbody>\n",
       "    <tr>\n",
       "      <th>count</th>\n",
       "      <td>306.000000</td>\n",
       "      <td>306.000000</td>\n",
       "      <td>306.000000</td>\n",
       "      <td>306.000000</td>\n",
       "    </tr>\n",
       "    <tr>\n",
       "      <th>mean</th>\n",
       "      <td>52.457516</td>\n",
       "      <td>62.852941</td>\n",
       "      <td>4.026144</td>\n",
       "      <td>1.264706</td>\n",
       "    </tr>\n",
       "    <tr>\n",
       "      <th>std</th>\n",
       "      <td>10.803452</td>\n",
       "      <td>3.249405</td>\n",
       "      <td>7.189654</td>\n",
       "      <td>0.441899</td>\n",
       "    </tr>\n",
       "    <tr>\n",
       "      <th>min</th>\n",
       "      <td>30.000000</td>\n",
       "      <td>58.000000</td>\n",
       "      <td>0.000000</td>\n",
       "      <td>1.000000</td>\n",
       "    </tr>\n",
       "    <tr>\n",
       "      <th>25%</th>\n",
       "      <td>44.000000</td>\n",
       "      <td>60.000000</td>\n",
       "      <td>0.000000</td>\n",
       "      <td>1.000000</td>\n",
       "    </tr>\n",
       "    <tr>\n",
       "      <th>50%</th>\n",
       "      <td>52.000000</td>\n",
       "      <td>63.000000</td>\n",
       "      <td>1.000000</td>\n",
       "      <td>1.000000</td>\n",
       "    </tr>\n",
       "    <tr>\n",
       "      <th>75%</th>\n",
       "      <td>60.750000</td>\n",
       "      <td>65.750000</td>\n",
       "      <td>4.000000</td>\n",
       "      <td>2.000000</td>\n",
       "    </tr>\n",
       "    <tr>\n",
       "      <th>max</th>\n",
       "      <td>83.000000</td>\n",
       "      <td>69.000000</td>\n",
       "      <td>52.000000</td>\n",
       "      <td>2.000000</td>\n",
       "    </tr>\n",
       "  </tbody>\n",
       "</table>\n",
       "</div>"
      ],
      "text/plain": [
       "       Age_of_patient_at_time_of_operation  Patients_year_of_operation  \\\n",
       "count                           306.000000                  306.000000   \n",
       "mean                             52.457516                   62.852941   \n",
       "std                              10.803452                    3.249405   \n",
       "min                              30.000000                   58.000000   \n",
       "25%                              44.000000                   60.000000   \n",
       "50%                              52.000000                   63.000000   \n",
       "75%                              60.750000                   65.750000   \n",
       "max                              83.000000                   69.000000   \n",
       "\n",
       "       Number_of_positive_axillary_nodes_detected  Survival_status  \n",
       "count                                  306.000000       306.000000  \n",
       "mean                                     4.026144         1.264706  \n",
       "std                                      7.189654         0.441899  \n",
       "min                                      0.000000         1.000000  \n",
       "25%                                      0.000000         1.000000  \n",
       "50%                                      1.000000         1.000000  \n",
       "75%                                      4.000000         2.000000  \n",
       "max                                     52.000000         2.000000  "
      ]
     },
     "execution_count": 298,
     "metadata": {},
     "output_type": "execute_result"
    }
   ],
   "source": [
    "df.describe()"
   ]
  },
  {
   "cell_type": "markdown",
   "metadata": {},
   "source": [
    "### Exibindo alguns dados referentes a idade dos pacientes (idade menor, maior, média)"
   ]
  },
  {
   "cell_type": "code",
   "execution_count": 299,
   "metadata": {
    "scrolled": true
   },
   "outputs": [
    {
     "data": {
      "text/plain": [
       "0      30\n",
       "1      30\n",
       "2      30\n",
       "3      31\n",
       "4      31\n",
       "5      33\n",
       "6      33\n",
       "7      34\n",
       "8      34\n",
       "9      34\n",
       "10     34\n",
       "11     34\n",
       "12     34\n",
       "13     34\n",
       "14     35\n",
       "15     35\n",
       "16     36\n",
       "17     36\n",
       "18     37\n",
       "19     37\n",
       "20     37\n",
       "21     37\n",
       "22     37\n",
       "23     37\n",
       "24     38\n",
       "25     38\n",
       "26     38\n",
       "27     38\n",
       "28     38\n",
       "29     38\n",
       "       ..\n",
       "276    67\n",
       "277    67\n",
       "278    67\n",
       "279    68\n",
       "280    68\n",
       "281    69\n",
       "282    69\n",
       "283    69\n",
       "284    69\n",
       "285    70\n",
       "286    70\n",
       "287    70\n",
       "288    70\n",
       "289    70\n",
       "290    70\n",
       "291    70\n",
       "292    71\n",
       "293    72\n",
       "294    72\n",
       "295    72\n",
       "296    72\n",
       "297    73\n",
       "298    73\n",
       "299    74\n",
       "300    74\n",
       "301    75\n",
       "302    76\n",
       "303    77\n",
       "304    78\n",
       "305    83\n",
       "Name: Age_of_patient_at_time_of_operation, Length: 306, dtype: int64"
      ]
     },
     "execution_count": 299,
     "metadata": {},
     "output_type": "execute_result"
    }
   ],
   "source": [
    "# Exibindo a idade dos pacientes na data da cirurgia\n",
    "df['Age_of_patient_at_time_of_operation']"
   ]
  },
  {
   "cell_type": "code",
   "execution_count": 300,
   "metadata": {},
   "outputs": [
    {
     "data": {
      "text/plain": [
       "array([30, 31, 33, 34, 35, 36, 37, 38, 39, 40, 41, 42, 43, 44, 45, 46, 47,\n",
       "       48, 49, 50, 51, 52, 53, 54, 55, 56, 57, 58, 59, 60, 61, 62, 63, 64,\n",
       "       65, 66, 67, 68, 69, 70, 71, 72, 73, 74, 75, 76, 77, 78, 83])"
      ]
     },
     "execution_count": 300,
     "metadata": {},
     "output_type": "execute_result"
    }
   ],
   "source": [
    "# Exibindo todos os valores únicos para a idade dos pacientes\n",
    "df['Age_of_patient_at_time_of_operation'].unique()"
   ]
  },
  {
   "cell_type": "code",
   "execution_count": 301,
   "metadata": {},
   "outputs": [
    {
     "data": {
      "text/plain": [
       "30"
      ]
     },
     "execution_count": 301,
     "metadata": {},
     "output_type": "execute_result"
    }
   ],
   "source": [
    "# Exibindo a menor idade\n",
    "df['Age_of_patient_at_time_of_operation'].min()"
   ]
  },
  {
   "cell_type": "code",
   "execution_count": 302,
   "metadata": {},
   "outputs": [
    {
     "data": {
      "text/plain": [
       "83"
      ]
     },
     "execution_count": 302,
     "metadata": {},
     "output_type": "execute_result"
    }
   ],
   "source": [
    "# Exibindo a maior idade\n",
    "df['Age_of_patient_at_time_of_operation'].max()"
   ]
  },
  {
   "cell_type": "code",
   "execution_count": 303,
   "metadata": {},
   "outputs": [
    {
     "data": {
      "text/plain": [
       "52.45751633986928"
      ]
     },
     "execution_count": 303,
     "metadata": {},
     "output_type": "execute_result"
    }
   ],
   "source": [
    "# Exibindo a media das idades\n",
    "df['Age_of_patient_at_time_of_operation'].mean()"
   ]
  },
  {
   "cell_type": "code",
   "execution_count": 304,
   "metadata": {},
   "outputs": [
    {
     "data": {
      "text/html": [
       "<div>\n",
       "<style scoped>\n",
       "    .dataframe tbody tr th:only-of-type {\n",
       "        vertical-align: middle;\n",
       "    }\n",
       "\n",
       "    .dataframe tbody tr th {\n",
       "        vertical-align: top;\n",
       "    }\n",
       "\n",
       "    .dataframe thead th {\n",
       "        text-align: right;\n",
       "    }\n",
       "</style>\n",
       "<table border=\"1\" class=\"dataframe\">\n",
       "  <thead>\n",
       "    <tr style=\"text-align: right;\">\n",
       "      <th></th>\n",
       "      <th>Age_of_patient_at_time_of_operation</th>\n",
       "      <th>Patients_year_of_operation</th>\n",
       "      <th>Number_of_positive_axillary_nodes_detected</th>\n",
       "      <th>Survival_status</th>\n",
       "    </tr>\n",
       "  </thead>\n",
       "  <tbody>\n",
       "  </tbody>\n",
       "</table>\n",
       "</div>"
      ],
      "text/plain": [
       "Empty DataFrame\n",
       "Columns: [Age_of_patient_at_time_of_operation, Patients_year_of_operation, Number_of_positive_axillary_nodes_detected, Survival_status]\n",
       "Index: []"
      ]
     },
     "execution_count": 304,
     "metadata": {},
     "output_type": "execute_result"
    }
   ],
   "source": [
    "# Exibindo idades nulas\n",
    "df[df['Age_of_patient_at_time_of_operation'].isnull()]"
   ]
  },
  {
   "cell_type": "markdown",
   "metadata": {},
   "source": [
    "### Exibindo todas as colunas e buscando valores nulos"
   ]
  },
  {
   "cell_type": "markdown",
   "metadata": {},
   "source": [
    "#### Exibindo todas as colunas existentes"
   ]
  },
  {
   "cell_type": "code",
   "execution_count": 305,
   "metadata": {},
   "outputs": [
    {
     "data": {
      "text/plain": [
       "Index(['Age_of_patient_at_time_of_operation', 'Patients_year_of_operation',\n",
       "       'Number_of_positive_axillary_nodes_detected', 'Survival_status'],\n",
       "      dtype='object')"
      ]
     },
     "execution_count": 305,
     "metadata": {},
     "output_type": "execute_result"
    }
   ],
   "source": [
    "df.columns"
   ]
  },
  {
   "cell_type": "markdown",
   "metadata": {},
   "source": [
    "#### Procurando por dados nulos nas colunas"
   ]
  },
  {
   "cell_type": "code",
   "execution_count": 306,
   "metadata": {
    "scrolled": true
   },
   "outputs": [
    {
     "data": {
      "text/plain": [
       "Age_of_patient_at_time_of_operation           0\n",
       "Patients_year_of_operation                    0\n",
       "Number_of_positive_axillary_nodes_detected    0\n",
       "Survival_status                               0\n",
       "dtype: int64"
      ]
     },
     "execution_count": 306,
     "metadata": {},
     "output_type": "execute_result"
    }
   ],
   "source": [
    "df.isnull().sum()"
   ]
  },
  {
   "cell_type": "markdown",
   "metadata": {},
   "source": [
    "## Procurando valores inconsistentes (Outiliers)"
   ]
  },
  {
   "cell_type": "markdown",
   "metadata": {},
   "source": [
    "### Idade dos pacientes"
   ]
  },
  {
   "cell_type": "code",
   "execution_count": 307,
   "metadata": {},
   "outputs": [
    {
     "data": {
      "image/png": "[encoded data removed]",
      "text/plain": [
       "<Figure size 432x288 with 1 Axes>"
      ]
     },
     "metadata": {
      "needs_background": "light"
     },
     "output_type": "display_data"
    }
   ],
   "source": [
    "# Histograma das idades dos pacientes\n",
    "df['Age_of_patient_at_time_of_operation'].hist()\n",
    "plt.title('Idade do paciente no momento da cirurgia')\n",
    "plt.show()"
   ]
  },
  {
   "cell_type": "code",
   "execution_count": 308,
   "metadata": {},
   "outputs": [
    {
     "data": {
      "text/plain": [
       "{'whiskers': [<matplotlib.lines.Line2D at 0x7f54a97bd128>,\n",
       "  <matplotlib.lines.Line2D at 0x7f54a97bd470>],\n",
       " 'caps': [<matplotlib.lines.Line2D at 0x7f54a97bd7b8>,\n",
       "  <matplotlib.lines.Line2D at 0x7f54a97bdb00>],\n",
       " 'boxes': [<matplotlib.lines.Line2D at 0x7f54a9783f98>],\n",
       " 'medians': [<matplotlib.lines.Line2D at 0x7f54a97bde48>],\n",
       " 'fliers': [<matplotlib.lines.Line2D at 0x7f54a97821d0>],\n",
       " 'means': []}"
      ]
     },
     "execution_count": 308,
     "metadata": {},
     "output_type": "execute_result"
    },
    {
     "data": {
      "image/png": "[encoded data removed]",
      "text/plain": [
       "<Figure size 432x288 with 1 Axes>"
      ]
     },
     "metadata": {
      "needs_background": "light"
     },
     "output_type": "display_data"
    }
   ],
   "source": [
    "# Média das idades\n",
    "plt.boxplot(df['Age_of_patient_at_time_of_operation'], showfliers=True)"
   ]
  },
  {
   "cell_type": "markdown",
   "metadata": {},
   "source": [
    "### Ano da cirurgia (tem que estar entre 58 e 70)"
   ]
  },
  {
   "cell_type": "code",
   "execution_count": 309,
   "metadata": {},
   "outputs": [
    {
     "data": {
      "image/png": "[encoded data removed]",
      "text/plain": [
       "<Figure size 432x288 with 1 Axes>"
      ]
     },
     "metadata": {
      "needs_background": "light"
     },
     "output_type": "display_data"
    }
   ],
   "source": [
    "# Histograma dos anos em que foram realizadas as cirgurgias\n",
    "df['Patients_year_of_operation'].hist()\n",
    "plt.title('Ano da cirurgia do paciente')\n",
    "plt.show()"
   ]
  },
  {
   "cell_type": "code",
   "execution_count": 310,
   "metadata": {},
   "outputs": [
    {
     "name": "stdout",
     "output_type": "stream",
     "text": [
      "Ano da primeira cirurgia:  58\n",
      "Ano da última cirurgia:  69\n"
     ]
    }
   ],
   "source": [
    "# Ano da Primeira cirurgia\n",
    "print(\"Ano da primeira cirurgia: \", df['Patients_year_of_operation'].min())\n",
    "print(\"Ano da última cirurgia: \", df['Patients_year_of_operation'].max())"
   ]
  },
  {
   "cell_type": "code",
   "execution_count": 311,
   "metadata": {},
   "outputs": [
    {
     "data": {
      "text/plain": [
       "{'whiskers': [<matplotlib.lines.Line2D at 0x7f54a972b8d0>,\n",
       "  <matplotlib.lines.Line2D at 0x7f54a972bc18>],\n",
       " 'caps': [<matplotlib.lines.Line2D at 0x7f54a972bf60>,\n",
       "  <matplotlib.lines.Line2D at 0x7f54a972e2e8>],\n",
       " 'boxes': [<matplotlib.lines.Line2D at 0x7f54a972b780>],\n",
       " 'medians': [<matplotlib.lines.Line2D at 0x7f54a972e630>],\n",
       " 'fliers': [<matplotlib.lines.Line2D at 0x7f54a972e978>],\n",
       " 'means': []}"
      ]
     },
     "execution_count": 311,
     "metadata": {},
     "output_type": "execute_result"
    },
    {
     "data": {
      "image/png": "[encoded data removed]",
      "text/plain": [
       "<Figure size 432x288 with 1 Axes>"
      ]
     },
     "metadata": {
      "needs_background": "light"
     },
     "output_type": "display_data"
    }
   ],
   "source": [
    "#\n",
    "plt.boxplot(df['Patients_year_of_operation'], showfliers=True)"
   ]
  },
  {
   "cell_type": "markdown",
   "metadata": {},
   "source": [
    "### Número de nódulos axiliais"
   ]
  },
  {
   "cell_type": "code",
   "execution_count": 312,
   "metadata": {},
   "outputs": [
    {
     "data": {
      "image/png": "[encoded data removed]",
      "text/plain": [
       "<Figure size 432x288 with 1 Axes>"
      ]
     },
     "metadata": {
      "needs_background": "light"
     },
     "output_type": "display_data"
    }
   ],
   "source": [
    "# Histograma dos nódulos axiliais\n",
    "df['Number_of_positive_axillary_nodes_detected'].hist()\n",
    "plt.title('Número de nódulos axilares positivos detectados')\n",
    "plt.show()"
   ]
  },
  {
   "cell_type": "code",
   "execution_count": 313,
   "metadata": {},
   "outputs": [
    {
     "name": "stdout",
     "output_type": "stream",
     "text": [
      "Valor mínimo:  0\n",
      "Valor máximo:  52\n"
     ]
    }
   ],
   "source": [
    "print(\"Valor mínimo: \", df['Number_of_positive_axillary_nodes_detected'].min())\n",
    "print(\"Valor máximo: \", df['Number_of_positive_axillary_nodes_detected'].max())"
   ]
  },
  {
   "cell_type": "code",
   "execution_count": 314,
   "metadata": {},
   "outputs": [
    {
     "data": {
      "text/plain": [
       "{'whiskers': [<matplotlib.lines.Line2D at 0x7f54a9687550>,\n",
       "  <matplotlib.lines.Line2D at 0x7f54a9687898>],\n",
       " 'caps': [<matplotlib.lines.Line2D at 0x7f54a9687be0>,\n",
       "  <matplotlib.lines.Line2D at 0x7f54a9687f28>],\n",
       " 'boxes': [<matplotlib.lines.Line2D at 0x7f54a9687400>],\n",
       " 'medians': [<matplotlib.lines.Line2D at 0x7f54a968d2b0>],\n",
       " 'fliers': [<matplotlib.lines.Line2D at 0x7f54a968d5f8>],\n",
       " 'means': []}"
      ]
     },
     "execution_count": 314,
     "metadata": {},
     "output_type": "execute_result"
    },
    {
     "data": {
      "image/png": "[encoded data removed]",
      "text/plain": [
       "<Figure size 432x288 with 1 Axes>"
      ]
     },
     "metadata": {
      "needs_background": "light"
     },
     "output_type": "display_data"
    }
   ],
   "source": [
    "plt.boxplot(df['Number_of_positive_axillary_nodes_detected'], showfliers=True)"
   ]
  },
  {
   "cell_type": "markdown",
   "metadata": {},
   "source": [
    "### Status de sobrevivencia"
   ]
  },
  {
   "cell_type": "code",
   "execution_count": 315,
   "metadata": {},
   "outputs": [
    {
     "data": {
      "image/png": "[encoded data removed]",
      "text/plain": [
       "<Figure size 432x288 with 1 Axes>"
      ]
     },
     "metadata": {
      "needs_background": "light"
     },
     "output_type": "display_data"
    }
   ],
   "source": [
    "df['Survival_status'].hist()\n",
    "plt.title('Status de Sobrevivência')\n",
    "plt.show()"
   ]
  },
  {
   "cell_type": "code",
   "execution_count": 316,
   "metadata": {},
   "outputs": [
    {
     "name": "stdout",
     "output_type": "stream",
     "text": [
      "Valor mínimo:  1\n",
      "Valor máximo:  2\n"
     ]
    }
   ],
   "source": [
    "print(\"Valor mínimo: \", df['Survival_status'].min())\n",
    "print(\"Valor máximo: \", df['Survival_status'].max())"
   ]
  },
  {
   "cell_type": "code",
   "execution_count": 317,
   "metadata": {},
   "outputs": [
    {
     "data": {
      "text/plain": [
       "{'whiskers': [<matplotlib.lines.Line2D at 0x7f54a96671d0>,\n",
       "  <matplotlib.lines.Line2D at 0x7f54a9667518>],\n",
       " 'caps': [<matplotlib.lines.Line2D at 0x7f54a9667860>,\n",
       "  <matplotlib.lines.Line2D at 0x7f54a9667ba8>],\n",
       " 'boxes': [<matplotlib.lines.Line2D at 0x7f54a9667080>],\n",
       " 'medians': [<matplotlib.lines.Line2D at 0x7f54a9667ef0>],\n",
       " 'fliers': [<matplotlib.lines.Line2D at 0x7f54a966d278>],\n",
       " 'means': []}"
      ]
     },
     "execution_count": 317,
     "metadata": {},
     "output_type": "execute_result"
    },
    {
     "data": {
      "image/png": "[encoded data removed]",
      "text/plain": [
       "<Figure size 432x288 with 1 Axes>"
      ]
     },
     "metadata": {
      "needs_background": "light"
     },
     "output_type": "display_data"
    }
   ],
   "source": [
    "plt.boxplot(df['Survival_status'], showfliers=True)"
   ]
  },
  {
   "cell_type": "markdown",
   "metadata": {},
   "source": [
    "**Não foi encontrado nenhum valor nulo ou inconsistente.**"
   ]
  },
  {
   "cell_type": "markdown",
   "metadata": {},
   "source": [
    "## Excluíndo colunas\n",
    "_Foi excluída a coluna **'Ano da cirurgia'** porque o procedimento utilizado nos pacientes foi o mesmo durante o experimento_"
   ]
  },
  {
   "cell_type": "code",
   "execution_count": 318,
   "metadata": {},
   "outputs": [
    {
     "data": {
      "text/html": [
       "<div>\n",
       "<style scoped>\n",
       "    .dataframe tbody tr th:only-of-type {\n",
       "        vertical-align: middle;\n",
       "    }\n",
       "\n",
       "    .dataframe tbody tr th {\n",
       "        vertical-align: top;\n",
       "    }\n",
       "\n",
       "    .dataframe thead th {\n",
       "        text-align: right;\n",
       "    }\n",
       "</style>\n",
       "<table border=\"1\" class=\"dataframe\">\n",
       "  <thead>\n",
       "    <tr style=\"text-align: right;\">\n",
       "      <th></th>\n",
       "      <th>Age_of_patient_at_time_of_operation</th>\n",
       "      <th>Number_of_positive_axillary_nodes_detected</th>\n",
       "      <th>Survival_status</th>\n",
       "    </tr>\n",
       "  </thead>\n",
       "  <tbody>\n",
       "    <tr>\n",
       "      <th>0</th>\n",
       "      <td>30</td>\n",
       "      <td>1</td>\n",
       "      <td>1</td>\n",
       "    </tr>\n",
       "    <tr>\n",
       "      <th>1</th>\n",
       "      <td>30</td>\n",
       "      <td>3</td>\n",
       "      <td>1</td>\n",
       "    </tr>\n",
       "    <tr>\n",
       "      <th>2</th>\n",
       "      <td>30</td>\n",
       "      <td>0</td>\n",
       "      <td>1</td>\n",
       "    </tr>\n",
       "    <tr>\n",
       "      <th>3</th>\n",
       "      <td>31</td>\n",
       "      <td>2</td>\n",
       "      <td>1</td>\n",
       "    </tr>\n",
       "    <tr>\n",
       "      <th>4</th>\n",
       "      <td>31</td>\n",
       "      <td>4</td>\n",
       "      <td>1</td>\n",
       "    </tr>\n",
       "    <tr>\n",
       "      <th>5</th>\n",
       "      <td>33</td>\n",
       "      <td>10</td>\n",
       "      <td>1</td>\n",
       "    </tr>\n",
       "    <tr>\n",
       "      <th>6</th>\n",
       "      <td>33</td>\n",
       "      <td>0</td>\n",
       "      <td>1</td>\n",
       "    </tr>\n",
       "    <tr>\n",
       "      <th>7</th>\n",
       "      <td>34</td>\n",
       "      <td>0</td>\n",
       "      <td>2</td>\n",
       "    </tr>\n",
       "    <tr>\n",
       "      <th>8</th>\n",
       "      <td>34</td>\n",
       "      <td>9</td>\n",
       "      <td>2</td>\n",
       "    </tr>\n",
       "    <tr>\n",
       "      <th>9</th>\n",
       "      <td>34</td>\n",
       "      <td>30</td>\n",
       "      <td>1</td>\n",
       "    </tr>\n",
       "    <tr>\n",
       "      <th>10</th>\n",
       "      <td>34</td>\n",
       "      <td>1</td>\n",
       "      <td>1</td>\n",
       "    </tr>\n",
       "    <tr>\n",
       "      <th>11</th>\n",
       "      <td>34</td>\n",
       "      <td>10</td>\n",
       "      <td>1</td>\n",
       "    </tr>\n",
       "    <tr>\n",
       "      <th>12</th>\n",
       "      <td>34</td>\n",
       "      <td>7</td>\n",
       "      <td>1</td>\n",
       "    </tr>\n",
       "    <tr>\n",
       "      <th>13</th>\n",
       "      <td>34</td>\n",
       "      <td>0</td>\n",
       "      <td>1</td>\n",
       "    </tr>\n",
       "    <tr>\n",
       "      <th>14</th>\n",
       "      <td>35</td>\n",
       "      <td>13</td>\n",
       "      <td>1</td>\n",
       "    </tr>\n",
       "    <tr>\n",
       "      <th>15</th>\n",
       "      <td>35</td>\n",
       "      <td>0</td>\n",
       "      <td>1</td>\n",
       "    </tr>\n",
       "    <tr>\n",
       "      <th>16</th>\n",
       "      <td>36</td>\n",
       "      <td>1</td>\n",
       "      <td>1</td>\n",
       "    </tr>\n",
       "    <tr>\n",
       "      <th>17</th>\n",
       "      <td>36</td>\n",
       "      <td>0</td>\n",
       "      <td>1</td>\n",
       "    </tr>\n",
       "    <tr>\n",
       "      <th>18</th>\n",
       "      <td>37</td>\n",
       "      <td>0</td>\n",
       "      <td>1</td>\n",
       "    </tr>\n",
       "    <tr>\n",
       "      <th>19</th>\n",
       "      <td>37</td>\n",
       "      <td>0</td>\n",
       "      <td>1</td>\n",
       "    </tr>\n",
       "    <tr>\n",
       "      <th>20</th>\n",
       "      <td>37</td>\n",
       "      <td>0</td>\n",
       "      <td>1</td>\n",
       "    </tr>\n",
       "    <tr>\n",
       "      <th>21</th>\n",
       "      <td>37</td>\n",
       "      <td>6</td>\n",
       "      <td>1</td>\n",
       "    </tr>\n",
       "    <tr>\n",
       "      <th>22</th>\n",
       "      <td>37</td>\n",
       "      <td>15</td>\n",
       "      <td>1</td>\n",
       "    </tr>\n",
       "    <tr>\n",
       "      <th>23</th>\n",
       "      <td>37</td>\n",
       "      <td>0</td>\n",
       "      <td>1</td>\n",
       "    </tr>\n",
       "    <tr>\n",
       "      <th>24</th>\n",
       "      <td>38</td>\n",
       "      <td>21</td>\n",
       "      <td>2</td>\n",
       "    </tr>\n",
       "    <tr>\n",
       "      <th>25</th>\n",
       "      <td>38</td>\n",
       "      <td>2</td>\n",
       "      <td>1</td>\n",
       "    </tr>\n",
       "    <tr>\n",
       "      <th>26</th>\n",
       "      <td>38</td>\n",
       "      <td>0</td>\n",
       "      <td>1</td>\n",
       "    </tr>\n",
       "    <tr>\n",
       "      <th>27</th>\n",
       "      <td>38</td>\n",
       "      <td>0</td>\n",
       "      <td>1</td>\n",
       "    </tr>\n",
       "    <tr>\n",
       "      <th>28</th>\n",
       "      <td>38</td>\n",
       "      <td>3</td>\n",
       "      <td>1</td>\n",
       "    </tr>\n",
       "    <tr>\n",
       "      <th>29</th>\n",
       "      <td>38</td>\n",
       "      <td>1</td>\n",
       "      <td>1</td>\n",
       "    </tr>\n",
       "    <tr>\n",
       "      <th>...</th>\n",
       "      <td>...</td>\n",
       "      <td>...</td>\n",
       "      <td>...</td>\n",
       "    </tr>\n",
       "    <tr>\n",
       "      <th>276</th>\n",
       "      <td>67</td>\n",
       "      <td>0</td>\n",
       "      <td>1</td>\n",
       "    </tr>\n",
       "    <tr>\n",
       "      <th>277</th>\n",
       "      <td>67</td>\n",
       "      <td>0</td>\n",
       "      <td>1</td>\n",
       "    </tr>\n",
       "    <tr>\n",
       "      <th>278</th>\n",
       "      <td>67</td>\n",
       "      <td>0</td>\n",
       "      <td>1</td>\n",
       "    </tr>\n",
       "    <tr>\n",
       "      <th>279</th>\n",
       "      <td>68</td>\n",
       "      <td>0</td>\n",
       "      <td>1</td>\n",
       "    </tr>\n",
       "    <tr>\n",
       "      <th>280</th>\n",
       "      <td>68</td>\n",
       "      <td>0</td>\n",
       "      <td>1</td>\n",
       "    </tr>\n",
       "    <tr>\n",
       "      <th>281</th>\n",
       "      <td>69</td>\n",
       "      <td>8</td>\n",
       "      <td>2</td>\n",
       "    </tr>\n",
       "    <tr>\n",
       "      <th>282</th>\n",
       "      <td>69</td>\n",
       "      <td>0</td>\n",
       "      <td>1</td>\n",
       "    </tr>\n",
       "    <tr>\n",
       "      <th>283</th>\n",
       "      <td>69</td>\n",
       "      <td>0</td>\n",
       "      <td>1</td>\n",
       "    </tr>\n",
       "    <tr>\n",
       "      <th>284</th>\n",
       "      <td>69</td>\n",
       "      <td>0</td>\n",
       "      <td>1</td>\n",
       "    </tr>\n",
       "    <tr>\n",
       "      <th>285</th>\n",
       "      <td>70</td>\n",
       "      <td>0</td>\n",
       "      <td>2</td>\n",
       "    </tr>\n",
       "    <tr>\n",
       "      <th>286</th>\n",
       "      <td>70</td>\n",
       "      <td>4</td>\n",
       "      <td>2</td>\n",
       "    </tr>\n",
       "    <tr>\n",
       "      <th>287</th>\n",
       "      <td>70</td>\n",
       "      <td>14</td>\n",
       "      <td>1</td>\n",
       "    </tr>\n",
       "    <tr>\n",
       "      <th>288</th>\n",
       "      <td>70</td>\n",
       "      <td>0</td>\n",
       "      <td>1</td>\n",
       "    </tr>\n",
       "    <tr>\n",
       "      <th>289</th>\n",
       "      <td>70</td>\n",
       "      <td>0</td>\n",
       "      <td>1</td>\n",
       "    </tr>\n",
       "    <tr>\n",
       "      <th>290</th>\n",
       "      <td>70</td>\n",
       "      <td>8</td>\n",
       "      <td>1</td>\n",
       "    </tr>\n",
       "    <tr>\n",
       "      <th>291</th>\n",
       "      <td>70</td>\n",
       "      <td>0</td>\n",
       "      <td>1</td>\n",
       "    </tr>\n",
       "    <tr>\n",
       "      <th>292</th>\n",
       "      <td>71</td>\n",
       "      <td>2</td>\n",
       "      <td>1</td>\n",
       "    </tr>\n",
       "    <tr>\n",
       "      <th>293</th>\n",
       "      <td>72</td>\n",
       "      <td>0</td>\n",
       "      <td>2</td>\n",
       "    </tr>\n",
       "    <tr>\n",
       "      <th>294</th>\n",
       "      <td>72</td>\n",
       "      <td>0</td>\n",
       "      <td>1</td>\n",
       "    </tr>\n",
       "    <tr>\n",
       "      <th>295</th>\n",
       "      <td>72</td>\n",
       "      <td>0</td>\n",
       "      <td>1</td>\n",
       "    </tr>\n",
       "    <tr>\n",
       "      <th>296</th>\n",
       "      <td>72</td>\n",
       "      <td>3</td>\n",
       "      <td>1</td>\n",
       "    </tr>\n",
       "    <tr>\n",
       "      <th>297</th>\n",
       "      <td>73</td>\n",
       "      <td>0</td>\n",
       "      <td>1</td>\n",
       "    </tr>\n",
       "    <tr>\n",
       "      <th>298</th>\n",
       "      <td>73</td>\n",
       "      <td>0</td>\n",
       "      <td>1</td>\n",
       "    </tr>\n",
       "    <tr>\n",
       "      <th>299</th>\n",
       "      <td>74</td>\n",
       "      <td>3</td>\n",
       "      <td>2</td>\n",
       "    </tr>\n",
       "    <tr>\n",
       "      <th>300</th>\n",
       "      <td>74</td>\n",
       "      <td>0</td>\n",
       "      <td>1</td>\n",
       "    </tr>\n",
       "    <tr>\n",
       "      <th>301</th>\n",
       "      <td>75</td>\n",
       "      <td>1</td>\n",
       "      <td>1</td>\n",
       "    </tr>\n",
       "    <tr>\n",
       "      <th>302</th>\n",
       "      <td>76</td>\n",
       "      <td>0</td>\n",
       "      <td>1</td>\n",
       "    </tr>\n",
       "    <tr>\n",
       "      <th>303</th>\n",
       "      <td>77</td>\n",
       "      <td>3</td>\n",
       "      <td>1</td>\n",
       "    </tr>\n",
       "    <tr>\n",
       "      <th>304</th>\n",
       "      <td>78</td>\n",
       "      <td>1</td>\n",
       "      <td>2</td>\n",
       "    </tr>\n",
       "    <tr>\n",
       "      <th>305</th>\n",
       "      <td>83</td>\n",
       "      <td>2</td>\n",
       "      <td>2</td>\n",
       "    </tr>\n",
       "  </tbody>\n",
       "</table>\n",
       "<p>306 rows × 3 columns</p>\n",
       "</div>"
      ],
      "text/plain": [
       "     Age_of_patient_at_time_of_operation  \\\n",
       "0                                     30   \n",
       "1                                     30   \n",
       "2                                     30   \n",
       "3                                     31   \n",
       "4                                     31   \n",
       "5                                     33   \n",
       "6                                     33   \n",
       "7                                     34   \n",
       "8                                     34   \n",
       "9                                     34   \n",
       "10                                    34   \n",
       "11                                    34   \n",
       "12                                    34   \n",
       "13                                    34   \n",
       "14                                    35   \n",
       "15                                    35   \n",
       "16                                    36   \n",
       "17                                    36   \n",
       "18                                    37   \n",
       "19                                    37   \n",
       "20                                    37   \n",
       "21                                    37   \n",
       "22                                    37   \n",
       "23                                    37   \n",
       "24                                    38   \n",
       "25                                    38   \n",
       "26                                    38   \n",
       "27                                    38   \n",
       "28                                    38   \n",
       "29                                    38   \n",
       "..                                   ...   \n",
       "276                                   67   \n",
       "277                                   67   \n",
       "278                                   67   \n",
       "279                                   68   \n",
       "280                                   68   \n",
       "281                                   69   \n",
       "282                                   69   \n",
       "283                                   69   \n",
       "284                                   69   \n",
       "285                                   70   \n",
       "286                                   70   \n",
       "287                                   70   \n",
       "288                                   70   \n",
       "289                                   70   \n",
       "290                                   70   \n",
       "291                                   70   \n",
       "292                                   71   \n",
       "293                                   72   \n",
       "294                                   72   \n",
       "295                                   72   \n",
       "296                                   72   \n",
       "297                                   73   \n",
       "298                                   73   \n",
       "299                                   74   \n",
       "300                                   74   \n",
       "301                                   75   \n",
       "302                                   76   \n",
       "303                                   77   \n",
       "304                                   78   \n",
       "305                                   83   \n",
       "\n",
       "     Number_of_positive_axillary_nodes_detected  Survival_status  \n",
       "0                                             1                1  \n",
       "1                                             3                1  \n",
       "2                                             0                1  \n",
       "3                                             2                1  \n",
       "4                                             4                1  \n",
       "5                                            10                1  \n",
       "6                                             0                1  \n",
       "7                                             0                2  \n",
       "8                                             9                2  \n",
       "9                                            30                1  \n",
       "10                                            1                1  \n",
       "11                                           10                1  \n",
       "12                                            7                1  \n",
       "13                                            0                1  \n",
       "14                                           13                1  \n",
       "15                                            0                1  \n",
       "16                                            1                1  \n",
       "17                                            0                1  \n",
       "18                                            0                1  \n",
       "19                                            0                1  \n",
       "20                                            0                1  \n",
       "21                                            6                1  \n",
       "22                                           15                1  \n",
       "23                                            0                1  \n",
       "24                                           21                2  \n",
       "25                                            2                1  \n",
       "26                                            0                1  \n",
       "27                                            0                1  \n",
       "28                                            3                1  \n",
       "29                                            1                1  \n",
       "..                                          ...              ...  \n",
       "276                                           0                1  \n",
       "277                                           0                1  \n",
       "278                                           0                1  \n",
       "279                                           0                1  \n",
       "280                                           0                1  \n",
       "281                                           8                2  \n",
       "282                                           0                1  \n",
       "283                                           0                1  \n",
       "284                                           0                1  \n",
       "285                                           0                2  \n",
       "286                                           4                2  \n",
       "287                                          14                1  \n",
       "288                                           0                1  \n",
       "289                                           0                1  \n",
       "290                                           8                1  \n",
       "291                                           0                1  \n",
       "292                                           2                1  \n",
       "293                                           0                2  \n",
       "294                                           0                1  \n",
       "295                                           0                1  \n",
       "296                                           3                1  \n",
       "297                                           0                1  \n",
       "298                                           0                1  \n",
       "299                                           3                2  \n",
       "300                                           0                1  \n",
       "301                                           1                1  \n",
       "302                                           0                1  \n",
       "303                                           3                1  \n",
       "304                                           1                2  \n",
       "305                                           2                2  \n",
       "\n",
       "[306 rows x 3 columns]"
      ]
     },
     "execution_count": 318,
     "metadata": {},
     "output_type": "execute_result"
    }
   ],
   "source": [
    "df_temp = df # Criando uma cópia\n",
    "df_extra1 = df_temp.drop(df_temp.columns[[1]], axis=1)\n",
    "df_extra1"
   ]
  },
  {
   "cell_type": "code",
   "execution_count": 319,
   "metadata": {},
   "outputs": [
    {
     "data": {
      "image/png": "[encoded data removed]",
      "text/plain": [
       "<Figure size 1440x1440 with 1 Axes>"
      ]
     },
     "metadata": {},
     "output_type": "display_data"
    }
   ],
   "source": [
    "df_extra1['Age_of_patient_at_time_of_operation'].value_counts(sort=False).plot.pie(autopct='%1.1f%%', shadow=True, figsize=(20, 20))\n",
    "plt.title('Número de pessoas e a idade')\n",
    "plt.show()"
   ]
  },
  {
   "cell_type": "code",
   "execution_count": 320,
   "metadata": {},
   "outputs": [
    {
     "data": {
      "image/png": "[encoded data removed]",
      "text/plain": [
       "<Figure size 432x288 with 1 Axes>"
      ]
     },
     "metadata": {
      "needs_background": "light"
     },
     "output_type": "display_data"
    }
   ],
   "source": [
    "status_sobre = ['sobreviveu 5 anos ou mais', 'morreu em 5 anos']\n",
    "dados_status = df['Survival_status'].value_counts(sort=False)\n",
    "# Gŕafico de barras\n",
    "plt.bar(status_sobre, dados_status)\n",
    "plt.ylabel('Número de sobreviventes')\n",
    "plt.show()\n"
   ]
  },
  {
   "cell_type": "markdown",
   "metadata": {},
   "source": [
    "## Matriz de correlação (Com a coluna \"Ano da cirurgia\")"
   ]
  },
  {
   "cell_type": "code",
   "execution_count": 321,
   "metadata": {},
   "outputs": [
    {
     "name": "stdout",
     "output_type": "stream",
     "text": [
      "                                            Age_of_patient_at_time_of_operation  \\\n",
      "Age_of_patient_at_time_of_operation                                    1.000000   \n",
      "Patients_year_of_operation                                             0.089529   \n",
      "Number_of_positive_axillary_nodes_detected                            -0.063176   \n",
      "Survival_status                                                        0.067950   \n",
      "\n",
      "                                            Patients_year_of_operation  \\\n",
      "Age_of_patient_at_time_of_operation                           0.089529   \n",
      "Patients_year_of_operation                                    1.000000   \n",
      "Number_of_positive_axillary_nodes_detected                   -0.003764   \n",
      "Survival_status                                              -0.004768   \n",
      "\n",
      "                                            Number_of_positive_axillary_nodes_detected  \\\n",
      "Age_of_patient_at_time_of_operation                                          -0.063176   \n",
      "Patients_year_of_operation                                                   -0.003764   \n",
      "Number_of_positive_axillary_nodes_detected                                    1.000000   \n",
      "Survival_status                                                               0.286768   \n",
      "\n",
      "                                            Survival_status  \n",
      "Age_of_patient_at_time_of_operation                0.067950  \n",
      "Patients_year_of_operation                        -0.004768  \n",
      "Number_of_positive_axillary_nodes_detected         0.286768  \n",
      "Survival_status                                    1.000000  \n"
     ]
    },
    {
     "data": {
      "image/png": "[encoded data removed]",
      "text/plain": [
       "<Figure size 432x288 with 2 Axes>"
      ]
     },
     "metadata": {
      "needs_background": "light"
     },
     "output_type": "display_data"
    }
   ],
   "source": [
    "correlacao = df.corr()\n",
    "print(correlacao)\n",
    "fig = plt.figure()\n",
    "ax = fig.add_subplot(111)\n",
    "cax = ax.matshow(correlacao, vmin=-1, vmax=1)\n",
    "fig.colorbar(cax)\n",
    "ticks = np.arange(0,4,1)\n",
    "ax.set_xticks(ticks)\n",
    "ax.set_yticks(ticks)\n",
    "plt.show()"
   ]
  },
  {
   "cell_type": "markdown",
   "metadata": {},
   "source": [
    "## Matriz de correlação (Sem a coluna \"Ano da cirurgia\")"
   ]
  },
  {
   "cell_type": "code",
   "execution_count": 322,
   "metadata": {},
   "outputs": [
    {
     "name": "stdout",
     "output_type": "stream",
     "text": [
      "                                            Age_of_patient_at_time_of_operation  \\\n",
      "Age_of_patient_at_time_of_operation                                    1.000000   \n",
      "Number_of_positive_axillary_nodes_detected                            -0.063176   \n",
      "Survival_status                                                        0.067950   \n",
      "\n",
      "                                            Number_of_positive_axillary_nodes_detected  \\\n",
      "Age_of_patient_at_time_of_operation                                          -0.063176   \n",
      "Number_of_positive_axillary_nodes_detected                                    1.000000   \n",
      "Survival_status                                                               0.286768   \n",
      "\n",
      "                                            Survival_status  \n",
      "Age_of_patient_at_time_of_operation                0.067950  \n",
      "Number_of_positive_axillary_nodes_detected         0.286768  \n",
      "Survival_status                                    1.000000  \n"
     ]
    },
    {
     "data": {
      "image/png": "[encoded data removed]",
      "text/plain": [
       "<Figure size 432x288 with 2 Axes>"
      ]
     },
     "metadata": {
      "needs_background": "light"
     },
     "output_type": "display_data"
    }
   ],
   "source": [
    "correlacao = df_extra1.corr()\n",
    "print(correlacao)\n",
    "fig = plt.figure()\n",
    "ax = fig.add_subplot(111)\n",
    "cax = ax.matshow(correlacao, vmin=-1, vmax=1)\n",
    "fig.colorbar(cax)\n",
    "ticks = np.arange(0,3,1)\n",
    "ax.set_xticks(ticks)\n",
    "ax.set_yticks(ticks)\n",
    "plt.show()"
   ]
  },
  {
   "cell_type": "markdown",
   "metadata": {},
   "source": [
    "### Treinando os dados e avaliando os resultados"
   ]
  },
  {
   "cell_type": "code",
   "execution_count": 323,
   "metadata": {},
   "outputs": [
    {
     "name": "stdout",
     "output_type": "stream",
     "text": [
      "X: 306\n",
      "Y: 306\n"
     ]
    }
   ],
   "source": [
    "# Criando as variáveis x e y para treinamento\n",
    "# FIXME: Perguntas para avaliarmos os dados:\n",
    "# O paciente tinha quantos anos na época da cirurgia?\n",
    "# O paciente que possuia nódulos axililares na época da cirurgia, sobreviveu mais de 5 anos?\n",
    "# \n",
    "x = df[['Age_of_patient_at_time_of_operation', 'Patients_year_of_operation',\n",
    "       'Number_of_positive_axillary_nodes_detected']]\n",
    "y = df[\"Survival_status\"]\n",
    "\n",
    "x = pd.get_dummies(x)\n",
    "\n",
    "# Treinando os dados\n",
    "x_treino, x_teste, y_treino, y_teste = train_test_split(x, y, test_size=0.25, random_state=0)\n",
    "\n",
    "# Verificando o tamanho dos dados\n",
    "print('X:', len(x))\n",
    "print('Y:', len(y))\n",
    "\n",
    "# --------------------------------- #\n",
    "# TODO: Avaliar se vale a pena usar sem a coluna 'Ano da cirurgia'\n",
    "x_extra = df_extra1[['Age_of_patient_at_time_of_operation', 'Number_of_positive_axillary_nodes_detected']]\n",
    "y_extra = df_extra1['Survival_status']\n",
    "x_extra = pd.get_dummies(x_extra)\n",
    "\n",
    "# Treinando os dados\n",
    "x_extra_treino, x_extra_teste, y_extra_treino, y_extra_teste = train_test_split(x_extra, y_extra, test_size=0.25, random_state=0)\n",
    "# print('X_extra: ', len(x_extra))\n",
    "# print('Y_extra: ', len(y_extra))"
   ]
  },
  {
   "cell_type": "code",
   "execution_count": null,
   "metadata": {},
   "outputs": [],
   "source": []
  },
  {
   "cell_type": "code",
   "execution_count": null,
   "metadata": {},
   "outputs": [],
   "source": []
  },
  {
   "cell_type": "markdown",
   "metadata": {},
   "source": [
    "## Algoritmos de classificação"
   ]
  },
  {
   "cell_type": "markdown",
   "metadata": {},
   "source": [
    "### Naive bayes Multinomial"
   ]
  },
  {
   "cell_type": "code",
   "execution_count": 324,
   "metadata": {},
   "outputs": [],
   "source": [
    "modelo_mnb = MultinomialNB()"
   ]
  },
  {
   "cell_type": "markdown",
   "metadata": {},
   "source": [
    "### AdaBoost"
   ]
  },
  {
   "cell_type": "code",
   "execution_count": 325,
   "metadata": {},
   "outputs": [],
   "source": [
    "modelo_ada = AdaBoostClassifier()"
   ]
  },
  {
   "cell_type": "markdown",
   "metadata": {},
   "source": [
    "### OneVsOne"
   ]
  },
  {
   "cell_type": "code",
   "execution_count": 326,
   "metadata": {},
   "outputs": [],
   "source": [
    "modelo_ovo = OneVsOneClassifier(LinearSVC(random_state=0, max_iter=-1))"
   ]
  },
  {
   "cell_type": "markdown",
   "metadata": {},
   "source": [
    "### OneVsRest"
   ]
  },
  {
   "cell_type": "code",
   "execution_count": 327,
   "metadata": {},
   "outputs": [],
   "source": [
    "modelo_ovr = OneVsRestClassifier(LinearSVC(random_state=0, max_iter=-1))"
   ]
  },
  {
   "cell_type": "markdown",
   "metadata": {},
   "source": [
    "### GradientBoostingClassifier\n",
    "É um algoritmo de árvore de decisão. O [GBC](https://scikit-learn.org/stable/modules/generated/sklearn.ensemble.GradientBoostingClassifier.html#sklearn.ensemble.GradientBoostingClassifier) é o algoritmo que suporte classificação binária e multi-classe.\n"
   ]
  },
  {
   "cell_type": "code",
   "execution_count": 328,
   "metadata": {},
   "outputs": [],
   "source": [
    "modelo_gbc = GradientBoostingClassifier(random_state=0)"
   ]
  },
  {
   "cell_type": "markdown",
   "metadata": {},
   "source": [
    "### Implementando validação cruzada (K-folding)"
   ]
  },
  {
   "cell_type": "code",
   "execution_count": 329,
   "metadata": {},
   "outputs": [],
   "source": [
    "# Variável k\n",
    "k = 20"
   ]
  },
  {
   "cell_type": "markdown",
   "metadata": {},
   "source": [
    "#### Naive Bayes Multinomial k-folding"
   ]
  },
  {
   "cell_type": "code",
   "execution_count": 330,
   "metadata": {},
   "outputs": [
    {
     "name": "stdout",
     "output_type": "stream",
     "text": [
      "Taxa de acerto: 73.96%\n",
      "Variância:  0.011053765202015065\n",
      "desvio: 0.1036029453334937\n",
      "\n",
      "Taxa de acerto: 73.02%\n",
      "Variância:  0.011735795904290207\n",
      "desvio: 0.10675132116101624\n"
     ]
    }
   ],
   "source": [
    "scores_mnb = cross_val_score(modelo_mnb, x, y, cv=k)\n",
    "# print('Score MNB: ', scores)\n",
    "\n",
    "tx_acerto_mnb, variancia_mnb, desvio_mnb = bayes_mvs(scores_mnb, 0.95)\n",
    "print(\"Taxa de acerto: {0:.2f}%\".format(tx_acerto_mnb[0] * 100))\n",
    "print(\"Variância: \", variancia_mnb[0])\n",
    "print(\"desvio:\", desvio_mnb[0])\n",
    "\n",
    "# com os dados de treino extra\n",
    "print()\n",
    "scores_mnbx = cross_val_score(modelo_mnb, x_extra, y_extra, cv=k)\n",
    "tx_acerto_mnbx, variancia_mnbx, desvio_mnbx = bayes_mvs(scores_mnbx, 0.95)\n",
    "print(\"Taxa de acerto: {0:.2f}%\".format(tx_acerto_mnbx[0] * 100))\n",
    "print(\"Variância: \", variancia_mnbx[0])\n",
    "print(\"desvio:\", desvio_mnbx[0])"
   ]
  },
  {
   "cell_type": "markdown",
   "metadata": {},
   "source": [
    "#### AdaBoost"
   ]
  },
  {
   "cell_type": "code",
   "execution_count": 331,
   "metadata": {
    "scrolled": true
   },
   "outputs": [
    {
     "name": "stdout",
     "output_type": "stream",
     "text": [
      "Taxa de acerto: 68.09%\n",
      "Variância:  0.027009619285286196\n",
      "desvio: 0.1619482337440972\n",
      "\n",
      "Taxa de acerto: 70.39%\n",
      "Variância:  0.024065559308354256\n",
      "desvio: 0.1528674300019148\n"
     ]
    }
   ],
   "source": [
    "scores_ada = cross_val_score(modelo_ada, x, y, cv = k) \n",
    "tx_acerto_ada, variancia_ada, desvio_ada = bayes_mvs(scores_ada, 0.95)\n",
    "print(\"Taxa de acerto: {0:.2f}%\".format(tx_acerto_ada[0] * 100))\n",
    "print(\"Variância: \", variancia_ada[0])\n",
    "print(\"desvio:\", desvio_ada[0])\n",
    "\n",
    "# Extra\n",
    "scores_adax = cross_val_score(modelo_ada, x_extra, y_extra, cv = k) \n",
    "tx_acerto_adax, variancia_adax, desvio_adax = bayes_mvs(scores_adax, 0.95)\n",
    "print()\n",
    "print(\"Taxa de acerto: {0:.2f}%\".format(tx_acerto_adax[0] * 100))\n",
    "print(\"Variância: \", variancia_adax[0])\n",
    "print(\"desvio:\", desvio_adax[0])"
   ]
  },
  {
   "cell_type": "markdown",
   "metadata": {},
   "source": [
    "#### OneVsRest"
   ]
  },
  {
   "cell_type": "code",
   "execution_count": 332,
   "metadata": {},
   "outputs": [
    {
     "name": "stderr",
     "output_type": "stream",
     "text": [
      "/home/joaocarlos/.virtualenvs/ifpi/lib/python3.6/site-packages/sklearn/svm/base.py:922: ConvergenceWarning: Liblinear failed to converge, increase the number of iterations.\n",
      "  \"the number of iterations.\", ConvergenceWarning)\n",
      "/home/joaocarlos/.virtualenvs/ifpi/lib/python3.6/site-packages/sklearn/svm/base.py:922: ConvergenceWarning: Liblinear failed to converge, increase the number of iterations.\n",
      "  \"the number of iterations.\", ConvergenceWarning)\n",
      "/home/joaocarlos/.virtualenvs/ifpi/lib/python3.6/site-packages/sklearn/svm/base.py:922: ConvergenceWarning: Liblinear failed to converge, increase the number of iterations.\n",
      "  \"the number of iterations.\", ConvergenceWarning)\n",
      "/home/joaocarlos/.virtualenvs/ifpi/lib/python3.6/site-packages/sklearn/svm/base.py:922: ConvergenceWarning: Liblinear failed to converge, increase the number of iterations.\n",
      "  \"the number of iterations.\", ConvergenceWarning)\n",
      "/home/joaocarlos/.virtualenvs/ifpi/lib/python3.6/site-packages/sklearn/svm/base.py:922: ConvergenceWarning: Liblinear failed to converge, increase the number of iterations.\n",
      "  \"the number of iterations.\", ConvergenceWarning)\n",
      "/home/joaocarlos/.virtualenvs/ifpi/lib/python3.6/site-packages/sklearn/svm/base.py:922: ConvergenceWarning: Liblinear failed to converge, increase the number of iterations.\n",
      "  \"the number of iterations.\", ConvergenceWarning)\n",
      "/home/joaocarlos/.virtualenvs/ifpi/lib/python3.6/site-packages/sklearn/svm/base.py:922: ConvergenceWarning: Liblinear failed to converge, increase the number of iterations.\n",
      "  \"the number of iterations.\", ConvergenceWarning)\n",
      "/home/joaocarlos/.virtualenvs/ifpi/lib/python3.6/site-packages/sklearn/svm/base.py:922: ConvergenceWarning: Liblinear failed to converge, increase the number of iterations.\n",
      "  \"the number of iterations.\", ConvergenceWarning)\n",
      "/home/joaocarlos/.virtualenvs/ifpi/lib/python3.6/site-packages/sklearn/svm/base.py:922: ConvergenceWarning: Liblinear failed to converge, increase the number of iterations.\n",
      "  \"the number of iterations.\", ConvergenceWarning)\n",
      "/home/joaocarlos/.virtualenvs/ifpi/lib/python3.6/site-packages/sklearn/svm/base.py:922: ConvergenceWarning: Liblinear failed to converge, increase the number of iterations.\n",
      "  \"the number of iterations.\", ConvergenceWarning)\n",
      "/home/joaocarlos/.virtualenvs/ifpi/lib/python3.6/site-packages/sklearn/svm/base.py:922: ConvergenceWarning: Liblinear failed to converge, increase the number of iterations.\n",
      "  \"the number of iterations.\", ConvergenceWarning)\n",
      "/home/joaocarlos/.virtualenvs/ifpi/lib/python3.6/site-packages/sklearn/svm/base.py:922: ConvergenceWarning: Liblinear failed to converge, increase the number of iterations.\n",
      "  \"the number of iterations.\", ConvergenceWarning)\n",
      "/home/joaocarlos/.virtualenvs/ifpi/lib/python3.6/site-packages/sklearn/svm/base.py:922: ConvergenceWarning: Liblinear failed to converge, increase the number of iterations.\n",
      "  \"the number of iterations.\", ConvergenceWarning)\n",
      "/home/joaocarlos/.virtualenvs/ifpi/lib/python3.6/site-packages/sklearn/svm/base.py:922: ConvergenceWarning: Liblinear failed to converge, increase the number of iterations.\n",
      "  \"the number of iterations.\", ConvergenceWarning)\n",
      "/home/joaocarlos/.virtualenvs/ifpi/lib/python3.6/site-packages/sklearn/svm/base.py:922: ConvergenceWarning: Liblinear failed to converge, increase the number of iterations.\n",
      "  \"the number of iterations.\", ConvergenceWarning)\n",
      "/home/joaocarlos/.virtualenvs/ifpi/lib/python3.6/site-packages/sklearn/svm/base.py:922: ConvergenceWarning: Liblinear failed to converge, increase the number of iterations.\n",
      "  \"the number of iterations.\", ConvergenceWarning)\n",
      "/home/joaocarlos/.virtualenvs/ifpi/lib/python3.6/site-packages/sklearn/svm/base.py:922: ConvergenceWarning: Liblinear failed to converge, increase the number of iterations.\n",
      "  \"the number of iterations.\", ConvergenceWarning)\n",
      "/home/joaocarlos/.virtualenvs/ifpi/lib/python3.6/site-packages/sklearn/svm/base.py:922: ConvergenceWarning: Liblinear failed to converge, increase the number of iterations.\n",
      "  \"the number of iterations.\", ConvergenceWarning)\n",
      "/home/joaocarlos/.virtualenvs/ifpi/lib/python3.6/site-packages/sklearn/svm/base.py:922: ConvergenceWarning: Liblinear failed to converge, increase the number of iterations.\n",
      "  \"the number of iterations.\", ConvergenceWarning)\n",
      "/home/joaocarlos/.virtualenvs/ifpi/lib/python3.6/site-packages/sklearn/svm/base.py:922: ConvergenceWarning: Liblinear failed to converge, increase the number of iterations.\n",
      "  \"the number of iterations.\", ConvergenceWarning)\n",
      "/home/joaocarlos/.virtualenvs/ifpi/lib/python3.6/site-packages/sklearn/svm/base.py:922: ConvergenceWarning: Liblinear failed to converge, increase the number of iterations.\n",
      "  \"the number of iterations.\", ConvergenceWarning)\n"
     ]
    },
    {
     "name": "stdout",
     "output_type": "stream",
     "text": [
      "Taxa de acerto: 73.53%\n",
      "Variância:  0.00010516317253545017\n",
      "desvio: 0.010105290996559902\n",
      "\n",
      "Taxa de acerto: 73.53%\n",
      "Variância:  0.00010516317253545017\n",
      "desvio: 0.010105290996559902\n"
     ]
    },
    {
     "name": "stderr",
     "output_type": "stream",
     "text": [
      "/home/joaocarlos/.virtualenvs/ifpi/lib/python3.6/site-packages/sklearn/svm/base.py:922: ConvergenceWarning: Liblinear failed to converge, increase the number of iterations.\n",
      "  \"the number of iterations.\", ConvergenceWarning)\n",
      "/home/joaocarlos/.virtualenvs/ifpi/lib/python3.6/site-packages/sklearn/svm/base.py:922: ConvergenceWarning: Liblinear failed to converge, increase the number of iterations.\n",
      "  \"the number of iterations.\", ConvergenceWarning)\n",
      "/home/joaocarlos/.virtualenvs/ifpi/lib/python3.6/site-packages/sklearn/svm/base.py:922: ConvergenceWarning: Liblinear failed to converge, increase the number of iterations.\n",
      "  \"the number of iterations.\", ConvergenceWarning)\n",
      "/home/joaocarlos/.virtualenvs/ifpi/lib/python3.6/site-packages/sklearn/svm/base.py:922: ConvergenceWarning: Liblinear failed to converge, increase the number of iterations.\n",
      "  \"the number of iterations.\", ConvergenceWarning)\n",
      "/home/joaocarlos/.virtualenvs/ifpi/lib/python3.6/site-packages/sklearn/svm/base.py:922: ConvergenceWarning: Liblinear failed to converge, increase the number of iterations.\n",
      "  \"the number of iterations.\", ConvergenceWarning)\n",
      "/home/joaocarlos/.virtualenvs/ifpi/lib/python3.6/site-packages/sklearn/svm/base.py:922: ConvergenceWarning: Liblinear failed to converge, increase the number of iterations.\n",
      "  \"the number of iterations.\", ConvergenceWarning)\n",
      "/home/joaocarlos/.virtualenvs/ifpi/lib/python3.6/site-packages/sklearn/svm/base.py:922: ConvergenceWarning: Liblinear failed to converge, increase the number of iterations.\n",
      "  \"the number of iterations.\", ConvergenceWarning)\n",
      "/home/joaocarlos/.virtualenvs/ifpi/lib/python3.6/site-packages/sklearn/svm/base.py:922: ConvergenceWarning: Liblinear failed to converge, increase the number of iterations.\n",
      "  \"the number of iterations.\", ConvergenceWarning)\n",
      "/home/joaocarlos/.virtualenvs/ifpi/lib/python3.6/site-packages/sklearn/svm/base.py:922: ConvergenceWarning: Liblinear failed to converge, increase the number of iterations.\n",
      "  \"the number of iterations.\", ConvergenceWarning)\n",
      "/home/joaocarlos/.virtualenvs/ifpi/lib/python3.6/site-packages/sklearn/svm/base.py:922: ConvergenceWarning: Liblinear failed to converge, increase the number of iterations.\n",
      "  \"the number of iterations.\", ConvergenceWarning)\n",
      "/home/joaocarlos/.virtualenvs/ifpi/lib/python3.6/site-packages/sklearn/svm/base.py:922: ConvergenceWarning: Liblinear failed to converge, increase the number of iterations.\n",
      "  \"the number of iterations.\", ConvergenceWarning)\n",
      "/home/joaocarlos/.virtualenvs/ifpi/lib/python3.6/site-packages/sklearn/svm/base.py:922: ConvergenceWarning: Liblinear failed to converge, increase the number of iterations.\n",
      "  \"the number of iterations.\", ConvergenceWarning)\n",
      "/home/joaocarlos/.virtualenvs/ifpi/lib/python3.6/site-packages/sklearn/svm/base.py:922: ConvergenceWarning: Liblinear failed to converge, increase the number of iterations.\n",
      "  \"the number of iterations.\", ConvergenceWarning)\n",
      "/home/joaocarlos/.virtualenvs/ifpi/lib/python3.6/site-packages/sklearn/svm/base.py:922: ConvergenceWarning: Liblinear failed to converge, increase the number of iterations.\n",
      "  \"the number of iterations.\", ConvergenceWarning)\n",
      "/home/joaocarlos/.virtualenvs/ifpi/lib/python3.6/site-packages/sklearn/svm/base.py:922: ConvergenceWarning: Liblinear failed to converge, increase the number of iterations.\n",
      "  \"the number of iterations.\", ConvergenceWarning)\n",
      "/home/joaocarlos/.virtualenvs/ifpi/lib/python3.6/site-packages/sklearn/svm/base.py:922: ConvergenceWarning: Liblinear failed to converge, increase the number of iterations.\n",
      "  \"the number of iterations.\", ConvergenceWarning)\n",
      "/home/joaocarlos/.virtualenvs/ifpi/lib/python3.6/site-packages/sklearn/svm/base.py:922: ConvergenceWarning: Liblinear failed to converge, increase the number of iterations.\n",
      "  \"the number of iterations.\", ConvergenceWarning)\n",
      "/home/joaocarlos/.virtualenvs/ifpi/lib/python3.6/site-packages/sklearn/svm/base.py:922: ConvergenceWarning: Liblinear failed to converge, increase the number of iterations.\n",
      "  \"the number of iterations.\", ConvergenceWarning)\n",
      "/home/joaocarlos/.virtualenvs/ifpi/lib/python3.6/site-packages/sklearn/svm/base.py:922: ConvergenceWarning: Liblinear failed to converge, increase the number of iterations.\n",
      "  \"the number of iterations.\", ConvergenceWarning)\n",
      "/home/joaocarlos/.virtualenvs/ifpi/lib/python3.6/site-packages/sklearn/svm/base.py:922: ConvergenceWarning: Liblinear failed to converge, increase the number of iterations.\n",
      "  \"the number of iterations.\", ConvergenceWarning)\n"
     ]
    }
   ],
   "source": [
    "modelo_ovr = modelo_ovr.fit(x, y)\n",
    "scores_ovr = cross_val_score(modelo_ovr, x, y, cv=k)\n",
    "tx_acerto_ovr, variancia_ovr, desvio_ovr = bayes_mvs(scores_ovr, 0.95)\n",
    "print(\"Taxa de acerto: {0:.2f}%\".format(tx_acerto_ovr[0] * 100))\n",
    "print(\"Variância: \", variancia_ovr[0])\n",
    "print(\"desvio:\", desvio_ovr[0])\n",
    "\n",
    "# Dados de treino extra\n",
    "modelo_ovrx = modelo_ovr\n",
    "scores_ovrx = cross_val_score(modelo_ovrx, x_extra, y_extra, cv=k)\n",
    "tx_acerto_ovrx, variancia_ovrx, desvio_ovrx = bayes_mvs(scores_ovrx, 0.95)\n",
    "print()\n",
    "print(\"Taxa de acerto: {0:.2f}%\".format(tx_acerto_ovrx[0] * 100))\n",
    "print(\"Variância: \", variancia_ovrx[0])\n",
    "print(\"desvio:\", desvio_ovrx[0])\n"
   ]
  },
  {
   "cell_type": "markdown",
   "metadata": {},
   "source": [
    "#### OneVsOne"
   ]
  },
  {
   "cell_type": "code",
   "execution_count": 333,
   "metadata": {
    "scrolled": false
   },
   "outputs": [
    {
     "name": "stderr",
     "output_type": "stream",
     "text": [
      "/home/joaocarlos/.virtualenvs/ifpi/lib/python3.6/site-packages/sklearn/svm/base.py:922: ConvergenceWarning: Liblinear failed to converge, increase the number of iterations.\n",
      "  \"the number of iterations.\", ConvergenceWarning)\n",
      "/home/joaocarlos/.virtualenvs/ifpi/lib/python3.6/site-packages/sklearn/svm/base.py:922: ConvergenceWarning: Liblinear failed to converge, increase the number of iterations.\n",
      "  \"the number of iterations.\", ConvergenceWarning)\n",
      "/home/joaocarlos/.virtualenvs/ifpi/lib/python3.6/site-packages/sklearn/svm/base.py:922: ConvergenceWarning: Liblinear failed to converge, increase the number of iterations.\n",
      "  \"the number of iterations.\", ConvergenceWarning)\n",
      "/home/joaocarlos/.virtualenvs/ifpi/lib/python3.6/site-packages/sklearn/svm/base.py:922: ConvergenceWarning: Liblinear failed to converge, increase the number of iterations.\n",
      "  \"the number of iterations.\", ConvergenceWarning)\n",
      "/home/joaocarlos/.virtualenvs/ifpi/lib/python3.6/site-packages/sklearn/svm/base.py:922: ConvergenceWarning: Liblinear failed to converge, increase the number of iterations.\n",
      "  \"the number of iterations.\", ConvergenceWarning)\n",
      "/home/joaocarlos/.virtualenvs/ifpi/lib/python3.6/site-packages/sklearn/svm/base.py:922: ConvergenceWarning: Liblinear failed to converge, increase the number of iterations.\n",
      "  \"the number of iterations.\", ConvergenceWarning)\n",
      "/home/joaocarlos/.virtualenvs/ifpi/lib/python3.6/site-packages/sklearn/svm/base.py:922: ConvergenceWarning: Liblinear failed to converge, increase the number of iterations.\n",
      "  \"the number of iterations.\", ConvergenceWarning)\n",
      "/home/joaocarlos/.virtualenvs/ifpi/lib/python3.6/site-packages/sklearn/svm/base.py:922: ConvergenceWarning: Liblinear failed to converge, increase the number of iterations.\n",
      "  \"the number of iterations.\", ConvergenceWarning)\n",
      "/home/joaocarlos/.virtualenvs/ifpi/lib/python3.6/site-packages/sklearn/svm/base.py:922: ConvergenceWarning: Liblinear failed to converge, increase the number of iterations.\n",
      "  \"the number of iterations.\", ConvergenceWarning)\n",
      "/home/joaocarlos/.virtualenvs/ifpi/lib/python3.6/site-packages/sklearn/svm/base.py:922: ConvergenceWarning: Liblinear failed to converge, increase the number of iterations.\n",
      "  \"the number of iterations.\", ConvergenceWarning)\n",
      "/home/joaocarlos/.virtualenvs/ifpi/lib/python3.6/site-packages/sklearn/svm/base.py:922: ConvergenceWarning: Liblinear failed to converge, increase the number of iterations.\n",
      "  \"the number of iterations.\", ConvergenceWarning)\n",
      "/home/joaocarlos/.virtualenvs/ifpi/lib/python3.6/site-packages/sklearn/svm/base.py:922: ConvergenceWarning: Liblinear failed to converge, increase the number of iterations.\n",
      "  \"the number of iterations.\", ConvergenceWarning)\n",
      "/home/joaocarlos/.virtualenvs/ifpi/lib/python3.6/site-packages/sklearn/svm/base.py:922: ConvergenceWarning: Liblinear failed to converge, increase the number of iterations.\n",
      "  \"the number of iterations.\", ConvergenceWarning)\n",
      "/home/joaocarlos/.virtualenvs/ifpi/lib/python3.6/site-packages/sklearn/svm/base.py:922: ConvergenceWarning: Liblinear failed to converge, increase the number of iterations.\n",
      "  \"the number of iterations.\", ConvergenceWarning)\n",
      "/home/joaocarlos/.virtualenvs/ifpi/lib/python3.6/site-packages/sklearn/svm/base.py:922: ConvergenceWarning: Liblinear failed to converge, increase the number of iterations.\n",
      "  \"the number of iterations.\", ConvergenceWarning)\n",
      "/home/joaocarlos/.virtualenvs/ifpi/lib/python3.6/site-packages/sklearn/svm/base.py:922: ConvergenceWarning: Liblinear failed to converge, increase the number of iterations.\n",
      "  \"the number of iterations.\", ConvergenceWarning)\n",
      "/home/joaocarlos/.virtualenvs/ifpi/lib/python3.6/site-packages/sklearn/svm/base.py:922: ConvergenceWarning: Liblinear failed to converge, increase the number of iterations.\n",
      "  \"the number of iterations.\", ConvergenceWarning)\n",
      "/home/joaocarlos/.virtualenvs/ifpi/lib/python3.6/site-packages/sklearn/svm/base.py:922: ConvergenceWarning: Liblinear failed to converge, increase the number of iterations.\n",
      "  \"the number of iterations.\", ConvergenceWarning)\n",
      "/home/joaocarlos/.virtualenvs/ifpi/lib/python3.6/site-packages/sklearn/svm/base.py:922: ConvergenceWarning: Liblinear failed to converge, increase the number of iterations.\n",
      "  \"the number of iterations.\", ConvergenceWarning)\n",
      "/home/joaocarlos/.virtualenvs/ifpi/lib/python3.6/site-packages/sklearn/svm/base.py:922: ConvergenceWarning: Liblinear failed to converge, increase the number of iterations.\n",
      "  \"the number of iterations.\", ConvergenceWarning)\n",
      "/home/joaocarlos/.virtualenvs/ifpi/lib/python3.6/site-packages/sklearn/svm/base.py:922: ConvergenceWarning: Liblinear failed to converge, increase the number of iterations.\n",
      "  \"the number of iterations.\", ConvergenceWarning)\n",
      "/home/joaocarlos/.virtualenvs/ifpi/lib/python3.6/site-packages/sklearn/svm/base.py:922: ConvergenceWarning: Liblinear failed to converge, increase the number of iterations.\n",
      "  \"the number of iterations.\", ConvergenceWarning)\n",
      "/home/joaocarlos/.virtualenvs/ifpi/lib/python3.6/site-packages/sklearn/svm/base.py:922: ConvergenceWarning: Liblinear failed to converge, increase the number of iterations.\n",
      "  \"the number of iterations.\", ConvergenceWarning)\n",
      "/home/joaocarlos/.virtualenvs/ifpi/lib/python3.6/site-packages/sklearn/svm/base.py:922: ConvergenceWarning: Liblinear failed to converge, increase the number of iterations.\n",
      "  \"the number of iterations.\", ConvergenceWarning)\n",
      "/home/joaocarlos/.virtualenvs/ifpi/lib/python3.6/site-packages/sklearn/svm/base.py:922: ConvergenceWarning: Liblinear failed to converge, increase the number of iterations.\n",
      "  \"the number of iterations.\", ConvergenceWarning)\n"
     ]
    },
    {
     "name": "stdout",
     "output_type": "stream",
     "text": [
      "Taxa de acerto: 73.53%\n",
      "Variância:  0.00010516317253545017\n",
      "desvio: 0.010105290996559902\n",
      "\n",
      "Taxa de acerto: 73.53%\n",
      "Variância:  0.00010516317253545017\n",
      "desvio: 0.010105290996559902\n"
     ]
    },
    {
     "name": "stderr",
     "output_type": "stream",
     "text": [
      "/home/joaocarlos/.virtualenvs/ifpi/lib/python3.6/site-packages/sklearn/svm/base.py:922: ConvergenceWarning: Liblinear failed to converge, increase the number of iterations.\n",
      "  \"the number of iterations.\", ConvergenceWarning)\n",
      "/home/joaocarlos/.virtualenvs/ifpi/lib/python3.6/site-packages/sklearn/svm/base.py:922: ConvergenceWarning: Liblinear failed to converge, increase the number of iterations.\n",
      "  \"the number of iterations.\", ConvergenceWarning)\n",
      "/home/joaocarlos/.virtualenvs/ifpi/lib/python3.6/site-packages/sklearn/svm/base.py:922: ConvergenceWarning: Liblinear failed to converge, increase the number of iterations.\n",
      "  \"the number of iterations.\", ConvergenceWarning)\n",
      "/home/joaocarlos/.virtualenvs/ifpi/lib/python3.6/site-packages/sklearn/svm/base.py:922: ConvergenceWarning: Liblinear failed to converge, increase the number of iterations.\n",
      "  \"the number of iterations.\", ConvergenceWarning)\n",
      "/home/joaocarlos/.virtualenvs/ifpi/lib/python3.6/site-packages/sklearn/svm/base.py:922: ConvergenceWarning: Liblinear failed to converge, increase the number of iterations.\n",
      "  \"the number of iterations.\", ConvergenceWarning)\n",
      "/home/joaocarlos/.virtualenvs/ifpi/lib/python3.6/site-packages/sklearn/svm/base.py:922: ConvergenceWarning: Liblinear failed to converge, increase the number of iterations.\n",
      "  \"the number of iterations.\", ConvergenceWarning)\n",
      "/home/joaocarlos/.virtualenvs/ifpi/lib/python3.6/site-packages/sklearn/svm/base.py:922: ConvergenceWarning: Liblinear failed to converge, increase the number of iterations.\n",
      "  \"the number of iterations.\", ConvergenceWarning)\n",
      "/home/joaocarlos/.virtualenvs/ifpi/lib/python3.6/site-packages/sklearn/svm/base.py:922: ConvergenceWarning: Liblinear failed to converge, increase the number of iterations.\n",
      "  \"the number of iterations.\", ConvergenceWarning)\n",
      "/home/joaocarlos/.virtualenvs/ifpi/lib/python3.6/site-packages/sklearn/svm/base.py:922: ConvergenceWarning: Liblinear failed to converge, increase the number of iterations.\n",
      "  \"the number of iterations.\", ConvergenceWarning)\n",
      "/home/joaocarlos/.virtualenvs/ifpi/lib/python3.6/site-packages/sklearn/svm/base.py:922: ConvergenceWarning: Liblinear failed to converge, increase the number of iterations.\n",
      "  \"the number of iterations.\", ConvergenceWarning)\n",
      "/home/joaocarlos/.virtualenvs/ifpi/lib/python3.6/site-packages/sklearn/svm/base.py:922: ConvergenceWarning: Liblinear failed to converge, increase the number of iterations.\n",
      "  \"the number of iterations.\", ConvergenceWarning)\n",
      "/home/joaocarlos/.virtualenvs/ifpi/lib/python3.6/site-packages/sklearn/svm/base.py:922: ConvergenceWarning: Liblinear failed to converge, increase the number of iterations.\n",
      "  \"the number of iterations.\", ConvergenceWarning)\n",
      "/home/joaocarlos/.virtualenvs/ifpi/lib/python3.6/site-packages/sklearn/svm/base.py:922: ConvergenceWarning: Liblinear failed to converge, increase the number of iterations.\n",
      "  \"the number of iterations.\", ConvergenceWarning)\n",
      "/home/joaocarlos/.virtualenvs/ifpi/lib/python3.6/site-packages/sklearn/svm/base.py:922: ConvergenceWarning: Liblinear failed to converge, increase the number of iterations.\n",
      "  \"the number of iterations.\", ConvergenceWarning)\n",
      "/home/joaocarlos/.virtualenvs/ifpi/lib/python3.6/site-packages/sklearn/svm/base.py:922: ConvergenceWarning: Liblinear failed to converge, increase the number of iterations.\n",
      "  \"the number of iterations.\", ConvergenceWarning)\n",
      "/home/joaocarlos/.virtualenvs/ifpi/lib/python3.6/site-packages/sklearn/svm/base.py:922: ConvergenceWarning: Liblinear failed to converge, increase the number of iterations.\n",
      "  \"the number of iterations.\", ConvergenceWarning)\n"
     ]
    }
   ],
   "source": [
    "modelo_ovo = modelo_ovo.fit(x, y)\n",
    "scores_ovo = cross_val_score(modelo_ovo, x, y, cv=k)\n",
    "tx_acerto_ovo, variancia_ovo, desvio_ovo = bayes_mvs(scores_ovo, 0.95)\n",
    "print(\"Taxa de acerto: {0:.2f}%\".format(tx_acerto_ovo[0] * 100))\n",
    "print(\"Variância: \", variancia_ovo[0])\n",
    "print(\"desvio:\", desvio_ovo[0])\n",
    "\n",
    "# Dados de treino extra\n",
    "modelo_ovox = modelo_ovo\n",
    "scores_ovox = cross_val_score(modelo_ovox, x_extra, y_extra, cv=k)\n",
    "tx_acerto_ovox, variancia_ovox, desvio_ovox = bayes_mvs(scores_ovox, 0.95)\n",
    "print()\n",
    "print(\"Taxa de acerto: {0:.2f}%\".format(tx_acerto_ovox[0] * 100))\n",
    "print(\"Variância: \", variancia_ovox[0])\n",
    "print(\"desvio:\", desvio_ovox[0])"
   ]
  },
  {
   "cell_type": "markdown",
   "metadata": {},
   "source": [
    "#### GradientBoostingClassifier"
   ]
  },
  {
   "cell_type": "code",
   "execution_count": 334,
   "metadata": {},
   "outputs": [
    {
     "name": "stdout",
     "output_type": "stream",
     "text": [
      "Taxa de acerto: 63.88%\n",
      "Variância:  0.026692494367268248\n",
      "desvio: 0.16099469452986306\n",
      "\n",
      "Taxa de acerto: 61.24%\n",
      "Variância:  0.04767082301490376\n",
      "desvio: 0.2151509705129062\n"
     ]
    }
   ],
   "source": [
    "modelo_gbc = modelo_gbc.fit(x, y)\n",
    "scores_gbc = cross_val_score(modelo_gbc, x, y, cv=k)\n",
    "tx_acerto_gbc, variancia_gbc, desvio_gbc = bayes_mvs(scores_gbc, 0.95)\n",
    "print(\"Taxa de acerto: {0:.2f}%\".format(tx_acerto_gbc[0] * 100))\n",
    "print(\"Variância: \", variancia_gbc[0])\n",
    "print(\"desvio:\", desvio_gbc[0])\n",
    "\n",
    "# Dados extras\n",
    "modelo_gbcx = modelo_gbc\n",
    "scores_gbcx = cross_val_score(modelo_gbcx, x_extra, y_extra, cv=k)\n",
    "tx_acerto_gbcx, variancia_gbcx, desvio_gbcx = bayes_mvs(scores_gbcx, 0.95)\n",
    "\n",
    "print()\n",
    "print(\"Taxa de acerto: {0:.2f}%\".format(tx_acerto_gbcx[0] * 100))\n",
    "print(\"Variância: \", variancia_gbcx[0])\n",
    "print(\"desvio:\", desvio_gbcx[0])"
   ]
  },
  {
   "cell_type": "markdown",
   "metadata": {},
   "source": [
    "## Conclusão\n",
    "O algoritimo com melhor taxa de acerto é o OneVsOne e o OneVsRest, os outros deram taxas de acerto menores, o que não significa que são ruins. O GradientBoostingClassifier parece ser um bom algoritmo, apesar de ser mais lento que os outros. Isso se deve ao fato dele usar árvore de regressão. \n",
    "\n",
    "Como explica na documentação, o **Gradient Tree Boosting** é melhor usado para classificar dados do tipo misto, pois é mais robusto e tem uma melhor precisão.\n",
    "O algoritmo **Gradient Tree Boosting** pode ser usado tanto para regressão _(GradientBoostingRegressor)_ como para classificação _(GradientBoostingClassifier)_"
   ]
  },
  {
   "cell_type": "code",
   "execution_count": null,
   "metadata": {},
   "outputs": [],
   "source": []
  },
  {
   "cell_type": "code",
   "execution_count": null,
   "metadata": {},
   "outputs": [],
   "source": []
  },
  {
   "cell_type": "code",
   "execution_count": null,
   "metadata": {},
   "outputs": [],
   "source": []
  }
 ],
 "metadata": {
  "kernelspec": {
   "display_name": "Python 3",
   "language": "python",
   "name": "python3"
  },
  "language_info": {
   "codemirror_mode": {
    "name": "ipython",
    "version": 3
   },
   "file_extension": ".py",
   "mimetype": "text/x-python",
   "name": "python",
   "nbconvert_exporter": "python",
   "pygments_lexer": "ipython3",
   "version": "3.7.1"
  }
 },
 "nbformat": 4,
 "nbformat_minor": 2
}
