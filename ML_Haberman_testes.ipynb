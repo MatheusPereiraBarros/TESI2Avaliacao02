{
 "cells": [
  {
   "cell_type": "markdown",
   "metadata": {},
   "source": [
    "# Segunda avaliação de TESI\n",
    "João Carlos B. Santos  \n",
    "Matheus Barros\n",
    "\n",
    "# Informações sobre o dataset\n",
    "#### Título: [Haberman's Survival Data (Dados de Sobrevivência de Haberman)](https://archive.ics.uci.edu/ml/datasets/Haberman%27s+Survival)\n",
    "#### Fontes:\n",
    "(a) Doador: Tjen-Sien Lim (limt@stat.wisc.edu)  \n",
    "(b) Data: 4 de março de 1999\n",
    "\n",
    "#### Uso passado:\n",
    "1. Haberman, S. J. (1976). Residuais Generalizados para Modelos Log-Lineares, Anais da 9ª Conferência Internacional de Biometria, Boston, pp. 104-122.\n",
    "2. Landwehr, J. M., Pregibon, D., e Shoemaker, A. C. (1984), Modelos Gráficos para Avaliação de Modelos de Regressão Logística com discussão), Jornal da Associação Estatística Americana 79: 61-83.\n",
    "3. Lo, W.-D. (1993). Árvores de Regressão Logística, tese de doutorado, Departamento de Estatística, Universidade de Wisconsin, Madison, WI.\n",
    "\n",
    "#### Informação Relevante:\n",
    "O conjunto de dados contém casos de um estudo realizado entre **1958** e **1970**, no Hospital Billings, da Universidade de Chicago, sobre a sobrevida de pacientes submetidos à cirurgia para câncer de mama.\n",
    "\n",
    "#### Número de Instâncias: 306\n",
    "#### Número de Atributos: 4 (incluindo o atributo de classe)\n",
    "#### Informações sobre Atributos:\n",
    "1. Idade do paciente no momento da operação;\n",
    "2. Ano da cirurgia do paciente (ano - 1900);\n",
    "3. Número de nós axilares positivos detectados;\n",
    "4. Status de Sobrevivência (atributo de classe);  \n",
    "    1 = o paciente sobreviveu 5 anos ou mais;  \n",
    "    2 = o paciente morreu dentro de 5 anos.\n",
    "\n",
    "#### Atributos ausentes: Nenhum"
   ]
  },
  {
   "cell_type": "markdown",
   "metadata": {},
   "source": [
    "### Todos os imports necessários"
   ]
  },
  {
   "cell_type": "code",
   "execution_count": 63,
   "metadata": {},
   "outputs": [],
   "source": [
    "import pandas as pd\n",
    "import matplotlib.pyplot as plt\n",
    "import numpy as np\n",
    "from sklearn.model_selection import train_test_split\n",
    "from sklearn.naive_bayes import MultinomialNB\n",
    "from sklearn.model_selection import cross_val_score\n",
    "from scipy.stats import bayes_mvs, norm\n",
    "from sklearn.ensemble import AdaBoostClassifier\n",
    "from sklearn.multiclass import OneVsOneClassifier\n",
    "from sklearn.svm import LinearSVC\n",
    "\n"
   ]
  },
  {
   "cell_type": "markdown",
   "metadata": {},
   "source": [
    "### Carregando o csv com os dados e exibindo as 5 primeiras linhas"
   ]
  },
  {
   "cell_type": "code",
   "execution_count": 3,
   "metadata": {},
   "outputs": [
    {
     "data": {
      "text/html": [
       "<div>\n",
       "<style scoped>\n",
       "    .dataframe tbody tr th:only-of-type {\n",
       "        vertical-align: middle;\n",
       "    }\n",
       "\n",
       "    .dataframe tbody tr th {\n",
       "        vertical-align: top;\n",
       "    }\n",
       "\n",
       "    .dataframe thead th {\n",
       "        text-align: right;\n",
       "    }\n",
       "</style>\n",
       "<table border=\"1\" class=\"dataframe\">\n",
       "  <thead>\n",
       "    <tr style=\"text-align: right;\">\n",
       "      <th></th>\n",
       "      <th>Age_of_patient_at_time_of_operation</th>\n",
       "      <th>Patients_year_of_operation</th>\n",
       "      <th>Number_of_positive_axillary_nodes_detected</th>\n",
       "      <th>Survival_status</th>\n",
       "    </tr>\n",
       "  </thead>\n",
       "  <tbody>\n",
       "    <tr>\n",
       "      <th>0</th>\n",
       "      <td>30</td>\n",
       "      <td>64</td>\n",
       "      <td>1</td>\n",
       "      <td>1</td>\n",
       "    </tr>\n",
       "    <tr>\n",
       "      <th>1</th>\n",
       "      <td>30</td>\n",
       "      <td>62</td>\n",
       "      <td>3</td>\n",
       "      <td>1</td>\n",
       "    </tr>\n",
       "    <tr>\n",
       "      <th>2</th>\n",
       "      <td>30</td>\n",
       "      <td>65</td>\n",
       "      <td>0</td>\n",
       "      <td>1</td>\n",
       "    </tr>\n",
       "    <tr>\n",
       "      <th>3</th>\n",
       "      <td>31</td>\n",
       "      <td>59</td>\n",
       "      <td>2</td>\n",
       "      <td>1</td>\n",
       "    </tr>\n",
       "    <tr>\n",
       "      <th>4</th>\n",
       "      <td>31</td>\n",
       "      <td>65</td>\n",
       "      <td>4</td>\n",
       "      <td>1</td>\n",
       "    </tr>\n",
       "  </tbody>\n",
       "</table>\n",
       "</div>"
      ],
      "text/plain": [
       "   Age_of_patient_at_time_of_operation  Patients_year_of_operation  \\\n",
       "0                                   30                          64   \n",
       "1                                   30                          62   \n",
       "2                                   30                          65   \n",
       "3                                   31                          59   \n",
       "4                                   31                          65   \n",
       "\n",
       "   Number_of_positive_axillary_nodes_detected  Survival_status  \n",
       "0                                           1                1  \n",
       "1                                           3                1  \n",
       "2                                           0                1  \n",
       "3                                           2                1  \n",
       "4                                           4                1  "
      ]
     },
     "execution_count": 3,
     "metadata": {},
     "output_type": "execute_result"
    }
   ],
   "source": [
    "# df = Data frame\n",
    "df = pd.read_csv('haberman_csv.csv')\n",
    "df.head(5)"
   ]
  },
  {
   "cell_type": "markdown",
   "metadata": {},
   "source": [
    "### Exibindo as 5 últimas linhas"
   ]
  },
  {
   "cell_type": "code",
   "execution_count": 4,
   "metadata": {
    "scrolled": true
   },
   "outputs": [
    {
     "data": {
      "text/html": [
       "<div>\n",
       "<style scoped>\n",
       "    .dataframe tbody tr th:only-of-type {\n",
       "        vertical-align: middle;\n",
       "    }\n",
       "\n",
       "    .dataframe tbody tr th {\n",
       "        vertical-align: top;\n",
       "    }\n",
       "\n",
       "    .dataframe thead th {\n",
       "        text-align: right;\n",
       "    }\n",
       "</style>\n",
       "<table border=\"1\" class=\"dataframe\">\n",
       "  <thead>\n",
       "    <tr style=\"text-align: right;\">\n",
       "      <th></th>\n",
       "      <th>Age_of_patient_at_time_of_operation</th>\n",
       "      <th>Patients_year_of_operation</th>\n",
       "      <th>Number_of_positive_axillary_nodes_detected</th>\n",
       "      <th>Survival_status</th>\n",
       "    </tr>\n",
       "  </thead>\n",
       "  <tbody>\n",
       "    <tr>\n",
       "      <th>301</th>\n",
       "      <td>75</td>\n",
       "      <td>62</td>\n",
       "      <td>1</td>\n",
       "      <td>1</td>\n",
       "    </tr>\n",
       "    <tr>\n",
       "      <th>302</th>\n",
       "      <td>76</td>\n",
       "      <td>67</td>\n",
       "      <td>0</td>\n",
       "      <td>1</td>\n",
       "    </tr>\n",
       "    <tr>\n",
       "      <th>303</th>\n",
       "      <td>77</td>\n",
       "      <td>65</td>\n",
       "      <td>3</td>\n",
       "      <td>1</td>\n",
       "    </tr>\n",
       "    <tr>\n",
       "      <th>304</th>\n",
       "      <td>78</td>\n",
       "      <td>65</td>\n",
       "      <td>1</td>\n",
       "      <td>2</td>\n",
       "    </tr>\n",
       "    <tr>\n",
       "      <th>305</th>\n",
       "      <td>83</td>\n",
       "      <td>58</td>\n",
       "      <td>2</td>\n",
       "      <td>2</td>\n",
       "    </tr>\n",
       "  </tbody>\n",
       "</table>\n",
       "</div>"
      ],
      "text/plain": [
       "     Age_of_patient_at_time_of_operation  Patients_year_of_operation  \\\n",
       "301                                   75                          62   \n",
       "302                                   76                          67   \n",
       "303                                   77                          65   \n",
       "304                                   78                          65   \n",
       "305                                   83                          58   \n",
       "\n",
       "     Number_of_positive_axillary_nodes_detected  Survival_status  \n",
       "301                                           1                1  \n",
       "302                                           0                1  \n",
       "303                                           3                1  \n",
       "304                                           1                2  \n",
       "305                                           2                2  "
      ]
     },
     "execution_count": 4,
     "metadata": {},
     "output_type": "execute_result"
    }
   ],
   "source": [
    "df.tail(5)"
   ]
  },
  {
   "cell_type": "markdown",
   "metadata": {},
   "source": [
    "### Exibindo as informações sobre o dataframe com info() e describe()"
   ]
  },
  {
   "cell_type": "code",
   "execution_count": 5,
   "metadata": {},
   "outputs": [
    {
     "name": "stdout",
     "output_type": "stream",
     "text": [
      "<class 'pandas.core.frame.DataFrame'>\n",
      "RangeIndex: 306 entries, 0 to 305\n",
      "Data columns (total 4 columns):\n",
      "Age_of_patient_at_time_of_operation           306 non-null int64\n",
      "Patients_year_of_operation                    306 non-null int64\n",
      "Number_of_positive_axillary_nodes_detected    306 non-null int64\n",
      "Survival_status                               306 non-null int64\n",
      "dtypes: int64(4)\n",
      "memory usage: 9.6 KB\n"
     ]
    }
   ],
   "source": [
    "df.info()"
   ]
  },
  {
   "cell_type": "code",
   "execution_count": 6,
   "metadata": {},
   "outputs": [
    {
     "data": {
      "text/html": [
       "<div>\n",
       "<style scoped>\n",
       "    .dataframe tbody tr th:only-of-type {\n",
       "        vertical-align: middle;\n",
       "    }\n",
       "\n",
       "    .dataframe tbody tr th {\n",
       "        vertical-align: top;\n",
       "    }\n",
       "\n",
       "    .dataframe thead th {\n",
       "        text-align: right;\n",
       "    }\n",
       "</style>\n",
       "<table border=\"1\" class=\"dataframe\">\n",
       "  <thead>\n",
       "    <tr style=\"text-align: right;\">\n",
       "      <th></th>\n",
       "      <th>Age_of_patient_at_time_of_operation</th>\n",
       "      <th>Patients_year_of_operation</th>\n",
       "      <th>Number_of_positive_axillary_nodes_detected</th>\n",
       "      <th>Survival_status</th>\n",
       "    </tr>\n",
       "  </thead>\n",
       "  <tbody>\n",
       "    <tr>\n",
       "      <th>count</th>\n",
       "      <td>306.000000</td>\n",
       "      <td>306.000000</td>\n",
       "      <td>306.000000</td>\n",
       "      <td>306.000000</td>\n",
       "    </tr>\n",
       "    <tr>\n",
       "      <th>mean</th>\n",
       "      <td>52.457516</td>\n",
       "      <td>62.852941</td>\n",
       "      <td>4.026144</td>\n",
       "      <td>1.264706</td>\n",
       "    </tr>\n",
       "    <tr>\n",
       "      <th>std</th>\n",
       "      <td>10.803452</td>\n",
       "      <td>3.249405</td>\n",
       "      <td>7.189654</td>\n",
       "      <td>0.441899</td>\n",
       "    </tr>\n",
       "    <tr>\n",
       "      <th>min</th>\n",
       "      <td>30.000000</td>\n",
       "      <td>58.000000</td>\n",
       "      <td>0.000000</td>\n",
       "      <td>1.000000</td>\n",
       "    </tr>\n",
       "    <tr>\n",
       "      <th>25%</th>\n",
       "      <td>44.000000</td>\n",
       "      <td>60.000000</td>\n",
       "      <td>0.000000</td>\n",
       "      <td>1.000000</td>\n",
       "    </tr>\n",
       "    <tr>\n",
       "      <th>50%</th>\n",
       "      <td>52.000000</td>\n",
       "      <td>63.000000</td>\n",
       "      <td>1.000000</td>\n",
       "      <td>1.000000</td>\n",
       "    </tr>\n",
       "    <tr>\n",
       "      <th>75%</th>\n",
       "      <td>60.750000</td>\n",
       "      <td>65.750000</td>\n",
       "      <td>4.000000</td>\n",
       "      <td>2.000000</td>\n",
       "    </tr>\n",
       "    <tr>\n",
       "      <th>max</th>\n",
       "      <td>83.000000</td>\n",
       "      <td>69.000000</td>\n",
       "      <td>52.000000</td>\n",
       "      <td>2.000000</td>\n",
       "    </tr>\n",
       "  </tbody>\n",
       "</table>\n",
       "</div>"
      ],
      "text/plain": [
       "       Age_of_patient_at_time_of_operation  Patients_year_of_operation  \\\n",
       "count                           306.000000                  306.000000   \n",
       "mean                             52.457516                   62.852941   \n",
       "std                              10.803452                    3.249405   \n",
       "min                              30.000000                   58.000000   \n",
       "25%                              44.000000                   60.000000   \n",
       "50%                              52.000000                   63.000000   \n",
       "75%                              60.750000                   65.750000   \n",
       "max                              83.000000                   69.000000   \n",
       "\n",
       "       Number_of_positive_axillary_nodes_detected  Survival_status  \n",
       "count                                  306.000000       306.000000  \n",
       "mean                                     4.026144         1.264706  \n",
       "std                                      7.189654         0.441899  \n",
       "min                                      0.000000         1.000000  \n",
       "25%                                      0.000000         1.000000  \n",
       "50%                                      1.000000         1.000000  \n",
       "75%                                      4.000000         2.000000  \n",
       "max                                     52.000000         2.000000  "
      ]
     },
     "execution_count": 6,
     "metadata": {},
     "output_type": "execute_result"
    }
   ],
   "source": [
    "df.describe()"
   ]
  },
  {
   "cell_type": "markdown",
   "metadata": {},
   "source": [
    "### Exibindo alguns dados referentes a idade dos pacientes (idade menor, maior, média)"
   ]
  },
  {
   "cell_type": "code",
   "execution_count": 7,
   "metadata": {},
   "outputs": [
    {
     "data": {
      "text/plain": [
       "0      30\n",
       "1      30\n",
       "2      30\n",
       "3      31\n",
       "4      31\n",
       "5      33\n",
       "6      33\n",
       "7      34\n",
       "8      34\n",
       "9      34\n",
       "10     34\n",
       "11     34\n",
       "12     34\n",
       "13     34\n",
       "14     35\n",
       "15     35\n",
       "16     36\n",
       "17     36\n",
       "18     37\n",
       "19     37\n",
       "20     37\n",
       "21     37\n",
       "22     37\n",
       "23     37\n",
       "24     38\n",
       "25     38\n",
       "26     38\n",
       "27     38\n",
       "28     38\n",
       "29     38\n",
       "       ..\n",
       "276    67\n",
       "277    67\n",
       "278    67\n",
       "279    68\n",
       "280    68\n",
       "281    69\n",
       "282    69\n",
       "283    69\n",
       "284    69\n",
       "285    70\n",
       "286    70\n",
       "287    70\n",
       "288    70\n",
       "289    70\n",
       "290    70\n",
       "291    70\n",
       "292    71\n",
       "293    72\n",
       "294    72\n",
       "295    72\n",
       "296    72\n",
       "297    73\n",
       "298    73\n",
       "299    74\n",
       "300    74\n",
       "301    75\n",
       "302    76\n",
       "303    77\n",
       "304    78\n",
       "305    83\n",
       "Name: Age_of_patient_at_time_of_operation, Length: 306, dtype: int64"
      ]
     },
     "execution_count": 7,
     "metadata": {},
     "output_type": "execute_result"
    }
   ],
   "source": [
    "# Exibindo a idade dos pacientes na data da cirurgia\n",
    "df['Age_of_patient_at_time_of_operation']"
   ]
  },
  {
   "cell_type": "code",
   "execution_count": 8,
   "metadata": {},
   "outputs": [
    {
     "data": {
      "text/plain": [
       "array([30, 31, 33, 34, 35, 36, 37, 38, 39, 40, 41, 42, 43, 44, 45, 46, 47,\n",
       "       48, 49, 50, 51, 52, 53, 54, 55, 56, 57, 58, 59, 60, 61, 62, 63, 64,\n",
       "       65, 66, 67, 68, 69, 70, 71, 72, 73, 74, 75, 76, 77, 78, 83])"
      ]
     },
     "execution_count": 8,
     "metadata": {},
     "output_type": "execute_result"
    }
   ],
   "source": [
    "# Exibindo todos os valores únicos para a idade dos pacientes\n",
    "df['Age_of_patient_at_time_of_operation'].unique()"
   ]
  },
  {
   "cell_type": "code",
   "execution_count": 9,
   "metadata": {},
   "outputs": [
    {
     "data": {
      "text/plain": [
       "30"
      ]
     },
     "execution_count": 9,
     "metadata": {},
     "output_type": "execute_result"
    }
   ],
   "source": [
    "# Exibindo a menor idade\n",
    "df['Age_of_patient_at_time_of_operation'].min()"
   ]
  },
  {
   "cell_type": "code",
   "execution_count": 10,
   "metadata": {},
   "outputs": [
    {
     "data": {
      "text/plain": [
       "83"
      ]
     },
     "execution_count": 10,
     "metadata": {},
     "output_type": "execute_result"
    }
   ],
   "source": [
    "# Exibindo a maior idade\n",
    "df['Age_of_patient_at_time_of_operation'].max()"
   ]
  },
  {
   "cell_type": "code",
   "execution_count": 11,
   "metadata": {},
   "outputs": [
    {
     "data": {
      "text/plain": [
       "52.45751633986928"
      ]
     },
     "execution_count": 11,
     "metadata": {},
     "output_type": "execute_result"
    }
   ],
   "source": [
    "# Exibindo a media das idades\n",
    "df['Age_of_patient_at_time_of_operation'].mean()"
   ]
  },
  {
   "cell_type": "code",
   "execution_count": 12,
   "metadata": {},
   "outputs": [
    {
     "data": {
      "text/html": [
       "<div>\n",
       "<style scoped>\n",
       "    .dataframe tbody tr th:only-of-type {\n",
       "        vertical-align: middle;\n",
       "    }\n",
       "\n",
       "    .dataframe tbody tr th {\n",
       "        vertical-align: top;\n",
       "    }\n",
       "\n",
       "    .dataframe thead th {\n",
       "        text-align: right;\n",
       "    }\n",
       "</style>\n",
       "<table border=\"1\" class=\"dataframe\">\n",
       "  <thead>\n",
       "    <tr style=\"text-align: right;\">\n",
       "      <th></th>\n",
       "      <th>Age_of_patient_at_time_of_operation</th>\n",
       "      <th>Patients_year_of_operation</th>\n",
       "      <th>Number_of_positive_axillary_nodes_detected</th>\n",
       "      <th>Survival_status</th>\n",
       "    </tr>\n",
       "  </thead>\n",
       "  <tbody>\n",
       "  </tbody>\n",
       "</table>\n",
       "</div>"
      ],
      "text/plain": [
       "Empty DataFrame\n",
       "Columns: [Age_of_patient_at_time_of_operation, Patients_year_of_operation, Number_of_positive_axillary_nodes_detected, Survival_status]\n",
       "Index: []"
      ]
     },
     "execution_count": 12,
     "metadata": {},
     "output_type": "execute_result"
    }
   ],
   "source": [
    "# Exibindo idades nulas\n",
    "df[df['Age_of_patient_at_time_of_operation'].isnull()]"
   ]
  },
  {
   "cell_type": "markdown",
   "metadata": {},
   "source": [
    "## Procurando valores inconsistentes (Outiliers)"
   ]
  },
  {
   "cell_type": "markdown",
   "metadata": {},
   "source": [
    "### Idade dos pacientes"
   ]
  },
  {
   "cell_type": "code",
   "execution_count": 13,
   "metadata": {},
   "outputs": [
    {
     "data": {
      "image/png": "[encoded data removed]",
      "text/plain": [
       "<Figure size 432x288 with 1 Axes>"
      ]
     },
     "metadata": {
      "needs_background": "light"
     },
     "output_type": "display_data"
    }
   ],
   "source": [
    "# Histograma das idades dos pacientes\n",
    "df['Age_of_patient_at_time_of_operation'].hist()\n",
    "plt.show()"
   ]
  },
  {
   "cell_type": "code",
   "execution_count": 14,
   "metadata": {},
   "outputs": [
    {
     "data": {
      "text/plain": [
       "{'whiskers': [<matplotlib.lines.Line2D at 0x7f2fa6dae908>,\n",
       "  <matplotlib.lines.Line2D at 0x7f2fa6daec50>],\n",
       " 'caps': [<matplotlib.lines.Line2D at 0x7f2fa6daef98>,\n",
       "  <matplotlib.lines.Line2D at 0x7f2fa6dbb320>],\n",
       " 'boxes': [<matplotlib.lines.Line2D at 0x7f2fa6dae7b8>],\n",
       " 'medians': [<matplotlib.lines.Line2D at 0x7f2fa6dbb668>],\n",
       " 'fliers': [<matplotlib.lines.Line2D at 0x7f2fa6dbb9b0>],\n",
       " 'means': []}"
      ]
     },
     "execution_count": 14,
     "metadata": {},
     "output_type": "execute_result"
    },
    {
     "data": {
      "image/png": "[encoded data removed]",
      "text/plain": [
       "<Figure size 432x288 with 1 Axes>"
      ]
     },
     "metadata": {
      "needs_background": "light"
     },
     "output_type": "display_data"
    }
   ],
   "source": [
    "# Média das idades\n",
    "plt.boxplot(df['Age_of_patient_at_time_of_operation'], showfliers=True)"
   ]
  },
  {
   "cell_type": "markdown",
   "metadata": {},
   "source": [
    "### Ano da cirurgia (tem que está entre 58 e 70)"
   ]
  },
  {
   "cell_type": "code",
   "execution_count": 17,
   "metadata": {},
   "outputs": [
    {
     "data": {
      "image/png": "[encoded data removed]",
      "text/plain": [
       "<Figure size 432x288 with 1 Axes>"
      ]
     },
     "metadata": {
      "needs_background": "light"
     },
     "output_type": "display_data"
    }
   ],
   "source": [
    "# Histograma dos anos em que foram realizadas as cirgurgias\n",
    "df['Patients_year_of_operation'].hist()\n",
    "plt.show()"
   ]
  },
  {
   "cell_type": "code",
   "execution_count": 18,
   "metadata": {},
   "outputs": [
    {
     "data": {
      "text/plain": [
       "{'whiskers': [<matplotlib.lines.Line2D at 0x7f2fa6d11710>,\n",
       "  <matplotlib.lines.Line2D at 0x7f2fa6d11a58>],\n",
       " 'caps': [<matplotlib.lines.Line2D at 0x7f2fa6d11da0>,\n",
       "  <matplotlib.lines.Line2D at 0x7f2fa6c99128>],\n",
       " 'boxes': [<matplotlib.lines.Line2D at 0x7f2fa6d115c0>],\n",
       " 'medians': [<matplotlib.lines.Line2D at 0x7f2fa6c99470>],\n",
       " 'fliers': [<matplotlib.lines.Line2D at 0x7f2fa6c997b8>],\n",
       " 'means': []}"
      ]
     },
     "execution_count": 18,
     "metadata": {},
     "output_type": "execute_result"
    },
    {
     "data": {
      "image/png": "[encoded data removed]",
      "text/plain": [
       "<Figure size 432x288 with 1 Axes>"
      ]
     },
     "metadata": {
      "needs_background": "light"
     },
     "output_type": "display_data"
    }
   ],
   "source": [
    "# \n",
    "plt.boxplot(df['Patients_year_of_operation'], showfliers=True)"
   ]
  },
  {
   "cell_type": "markdown",
   "metadata": {},
   "source": [
    "### Exibindo dados referentes ao ano que foi realizada a cirurgia."
   ]
  },
  {
   "cell_type": "code",
   "execution_count": 15,
   "metadata": {},
   "outputs": [
    {
     "data": {
      "text/plain": [
       "58"
      ]
     },
     "execution_count": 15,
     "metadata": {},
     "output_type": "execute_result"
    }
   ],
   "source": [
    "# Ano da Primeira cirurgia\n",
    "df['Patients_year_of_operation'].min()"
   ]
  },
  {
   "cell_type": "code",
   "execution_count": 16,
   "metadata": {},
   "outputs": [
    {
     "data": {
      "text/plain": [
       "69"
      ]
     },
     "execution_count": 16,
     "metadata": {},
     "output_type": "execute_result"
    }
   ],
   "source": [
    "# Ano da última cirurgia\n",
    "df['Patients_year_of_operation'].max()"
   ]
  },
  {
   "cell_type": "markdown",
   "metadata": {},
   "source": [
    "### Exibindo todas as colunas e buscando valores nulos"
   ]
  },
  {
   "cell_type": "code",
   "execution_count": 19,
   "metadata": {},
   "outputs": [
    {
     "data": {
      "text/plain": [
       "Index(['Age_of_patient_at_time_of_operation', 'Patients_year_of_operation',\n",
       "       'Number_of_positive_axillary_nodes_detected', 'Survival_status'],\n",
       "      dtype='object')"
      ]
     },
     "execution_count": 19,
     "metadata": {},
     "output_type": "execute_result"
    }
   ],
   "source": [
    "# Exibindo todas as colunas existentes\n",
    "df.columns"
   ]
  },
  {
   "cell_type": "code",
   "execution_count": 20,
   "metadata": {},
   "outputs": [
    {
     "name": "stdout",
     "output_type": "stream",
     "text": [
      "Age_of_patient_at_time_of_operation Nulos:  0\n",
      "Patients_year_of_operation Nulos:  0\n",
      "Number_of_positive_axillary_nodes_detected Nulos:  0\n",
      "Survival_status Nulos:  0\n"
     ]
    }
   ],
   "source": [
    "# Procurando por dados nulos nas colunas\n",
    "for coluna in df.columns:\n",
    "    print(coluna, 'Nulos: ', df[coluna].isnull().sum())"
   ]
  },
  {
   "cell_type": "markdown",
   "metadata": {},
   "source": [
    "**Não foi encontrado nenhum valor nulo ou inconsistente.**"
   ]
  },
  {
   "cell_type": "markdown",
   "metadata": {},
   "source": [
    "### Treinando os dados e avaliando os resultados"
   ]
  },
  {
   "cell_type": "code",
   "execution_count": 28,
   "metadata": {},
   "outputs": [
    {
     "name": "stdout",
     "output_type": "stream",
     "text": [
      "X: 306\n",
      "Y: 306\n"
     ]
    }
   ],
   "source": [
    "# Criando as variáveis x e y para treinamento\n",
    "# FIXME: Perguntas para avaliarmos os dados:\n",
    "# O paciente tinha quantos anos na época da cirurgia?\n",
    "# O paciente que possuia nódulos axililares na época da cirurgia, sobreviveu mais de 5 anos?\n",
    "# \n",
    "x = df[['Age_of_patient_at_time_of_operation', 'Patients_year_of_operation',\n",
    "       'Number_of_positive_axillary_nodes_detected']]\n",
    "y = df[\"Survival_status\"]\n",
    "\n",
    "x = pd.get_dummies(x)\n",
    "\n",
    "# Treinando os dados\n",
    "x_treino, x_teste, y_treino, y_teste = train_test_split(x, y, test_size=0.25, random_state=0)\n",
    "\n",
    "# Verificando o tamanho dos dados\n",
    "print('X:', len(x))\n",
    "print('Y:', len(y))"
   ]
  },
  {
   "cell_type": "markdown",
   "metadata": {},
   "source": [
    "## Algoritmos de classificação"
   ]
  },
  {
   "cell_type": "markdown",
   "metadata": {},
   "source": [
    "### Naive bayes Multinomial"
   ]
  },
  {
   "cell_type": "code",
   "execution_count": 48,
   "metadata": {},
   "outputs": [],
   "source": [
    "modelo_mnb = MultinomialNB()"
   ]
  },
  {
   "cell_type": "markdown",
   "metadata": {},
   "source": [
    "### AdaBoost"
   ]
  },
  {
   "cell_type": "code",
   "execution_count": 49,
   "metadata": {},
   "outputs": [],
   "source": [
    "modelo_ada = AdaBoostClassifier()"
   ]
  },
  {
   "cell_type": "markdown",
   "metadata": {},
   "source": [
    "### Implementando validação cruzada (K-folding)"
   ]
  },
  {
   "cell_type": "code",
   "execution_count": 50,
   "metadata": {},
   "outputs": [],
   "source": [
    "# Variável k\n",
    "k = 20"
   ]
  },
  {
   "cell_type": "markdown",
   "metadata": {},
   "source": [
    "#### Naive Bayes Multinomial k-folding"
   ]
  },
  {
   "cell_type": "code",
   "execution_count": 70,
   "metadata": {},
   "outputs": [
    {
     "name": "stdout",
     "output_type": "stream",
     "text": [
      "Taxa de acerto: 68.09%\n",
      "\n",
      "Desvio padrão:  0.0969314212302327\n",
      "(Mean(statistic=0.7396446078431371, minmax=(0.6931007904959838, 0.7861884251902904)), Variance(statistic=0.011053765202015065, minmax=(0.005719960392003793, 0.02109848545323894)), Std_dev(statistic=0.1036029453334937, minmax=(0.07563041975292609, 0.14525317708483673)))\n",
      "------------------------------------------------------------------------------------------\n",
      "Media:  Mean(statistic=0.7396446078431371, minmax=(0.6931007904959838, 0.7861884251902904))\n",
      "Variancia:  Variance(statistic=0.011053765202015065, minmax=(0.005719960392003793, 0.02109848545323894))\n",
      "desvio:  Std_dev(statistic=0.1036029453334937, minmax=(0.07563041975292609, 0.14525317708483673))\n"
     ]
    }
   ],
   "source": [
    "scores_mnb = cross_val_score(modelo_mnb, x, y, cv=k)\n",
    "# print('Score MNB: ', scores)\n",
    "\n",
    "# Taxa de acerto (média)\n",
    "tx_acerto_mnb = np.mean(scores_mnb)\n",
    "# print(tx_acerto_ada)\n",
    "print(\"Taxa de acerto: {0:.2f}%\".format(tx_acerto_ada * 100))\n",
    "print()\n",
    "\n",
    "# Desvio padão\n",
    "desvio_padrao_mnb = scores_mnb.std()\n",
    "print('Desvio padrão: ', desvio_padrao_mnb)\n",
    "\n",
    "# Intervalo de confiança\n",
    "int_conf_mnb = norm.interval(0.95, tx_acerto_mnb, desvio_padrao_mnb)\n",
    "# print(\"Intervalo de confiança: \", int_conf_mnb)\n",
    "print(bayes_mvs(scores_mnb, 0.95))\n",
    "print(\"-\"*90)\n",
    "\n",
    "# TODO: Terminar esses testes\n",
    "media_mnb, variancia_mnb, desvio_mnb = bayes_mvs(scores_mnb, 0.95)\n",
    "print(\"Media: \", media_mnb)\n",
    "print(\"Variancia: \", variancia_mnb)\n",
    "print(\"desvio: \", desvio_mnb)"
   ]
  },
  {
   "cell_type": "markdown",
   "metadata": {},
   "source": []
  },
  {
   "cell_type": "code",
   "execution_count": null,
   "metadata": {},
   "outputs": [],
   "source": []
  },
  {
   "cell_type": "code",
   "execution_count": null,
   "metadata": {},
   "outputs": [],
   "source": []
  }
 ],
 "metadata": {
  "kernelspec": {
   "display_name": "Python 3",
   "language": "python",
   "name": "python3"
  },
  "language_info": {
   "codemirror_mode": {
    "name": "ipython",
    "version": 3
   },
   "file_extension": ".py",
   "mimetype": "text/x-python",
   "name": "python",
   "nbconvert_exporter": "python",
   "pygments_lexer": "ipython3",
   "version": "3.6.7"
  }
 },
 "nbformat": 4,
 "nbformat_minor": 2
}
